{
  "cells": [
    {
      "cell_type": "markdown",
      "id": "20e086a5",
      "metadata": {
        "id": "20e086a5"
      },
      "source": [
        "<p style=\"font-family: Arial; font-size:3.5em;color:green; font-style:bold\"><br>\n",
        "BCIS 5110 Exam 2</p><br>"
      ]
    },
    {
      "cell_type": "code",
      "execution_count": null,
      "id": "37eddf33",
      "metadata": {
        "id": "37eddf33"
      },
      "outputs": [],
      "source": [
        "from IPython.core.interactiveshell import InteractiveShell\n",
        "InteractiveShell.ast_node_interactivity = \"all\""
      ]
    },
    {
      "cell_type": "markdown",
      "id": "b9d2e51d",
      "metadata": {
        "id": "b9d2e51d"
      },
      "source": [
        "We will analyze a dataset about the life quality of Asian Americans based on a survey.<br>\n",
        "Asian Americans are the fastest-growing minority group in the United States. Currently, Asian Americans make up 5.6% of the total U.S. population. We need a better understanding of the social and health needs of the Asian American population. The survey collects information from Asian American respondents about many aspects of them and how they perceive about the quality of their life.<br>\n",
        "The dataset has a lot of variables. We will understand them step by step."
      ]
    },
    {
      "cell_type": "markdown",
      "id": "5d746e7f",
      "metadata": {
        "id": "5d746e7f"
      },
      "source": [
        "1. Import packages and the dataset"
      ]
    },
    {
      "cell_type": "code",
      "execution_count": null,
      "id": "86e34e66",
      "metadata": {
        "colab": {
          "base_uri": "https://localhost:8080/",
          "height": 73
        },
        "id": "86e34e66",
        "outputId": "a7b16375-f44b-4c92-c767-f456233beb23"
      },
      "outputs": [
        {
          "output_type": "display_data",
          "data": {
            "text/plain": [
              "<IPython.core.display.HTML object>"
            ],
            "text/html": [
              "\n",
              "     <input type=\"file\" id=\"files-84e4fbd6-190e-4d1e-8b9b-b6e6af54e854\" name=\"files[]\" multiple disabled\n",
              "        style=\"border:none\" />\n",
              "     <output id=\"result-84e4fbd6-190e-4d1e-8b9b-b6e6af54e854\">\n",
              "      Upload widget is only available when the cell has been executed in the\n",
              "      current browser session. Please rerun this cell to enable.\n",
              "      </output>\n",
              "      <script>// Copyright 2017 Google LLC\n",
              "//\n",
              "// Licensed under the Apache License, Version 2.0 (the \"License\");\n",
              "// you may not use this file except in compliance with the License.\n",
              "// You may obtain a copy of the License at\n",
              "//\n",
              "//      http://www.apache.org/licenses/LICENSE-2.0\n",
              "//\n",
              "// Unless required by applicable law or agreed to in writing, software\n",
              "// distributed under the License is distributed on an \"AS IS\" BASIS,\n",
              "// WITHOUT WARRANTIES OR CONDITIONS OF ANY KIND, either express or implied.\n",
              "// See the License for the specific language governing permissions and\n",
              "// limitations under the License.\n",
              "\n",
              "/**\n",
              " * @fileoverview Helpers for google.colab Python module.\n",
              " */\n",
              "(function(scope) {\n",
              "function span(text, styleAttributes = {}) {\n",
              "  const element = document.createElement('span');\n",
              "  element.textContent = text;\n",
              "  for (const key of Object.keys(styleAttributes)) {\n",
              "    element.style[key] = styleAttributes[key];\n",
              "  }\n",
              "  return element;\n",
              "}\n",
              "\n",
              "// Max number of bytes which will be uploaded at a time.\n",
              "const MAX_PAYLOAD_SIZE = 100 * 1024;\n",
              "\n",
              "function _uploadFiles(inputId, outputId) {\n",
              "  const steps = uploadFilesStep(inputId, outputId);\n",
              "  const outputElement = document.getElementById(outputId);\n",
              "  // Cache steps on the outputElement to make it available for the next call\n",
              "  // to uploadFilesContinue from Python.\n",
              "  outputElement.steps = steps;\n",
              "\n",
              "  return _uploadFilesContinue(outputId);\n",
              "}\n",
              "\n",
              "// This is roughly an async generator (not supported in the browser yet),\n",
              "// where there are multiple asynchronous steps and the Python side is going\n",
              "// to poll for completion of each step.\n",
              "// This uses a Promise to block the python side on completion of each step,\n",
              "// then passes the result of the previous step as the input to the next step.\n",
              "function _uploadFilesContinue(outputId) {\n",
              "  const outputElement = document.getElementById(outputId);\n",
              "  const steps = outputElement.steps;\n",
              "\n",
              "  const next = steps.next(outputElement.lastPromiseValue);\n",
              "  return Promise.resolve(next.value.promise).then((value) => {\n",
              "    // Cache the last promise value to make it available to the next\n",
              "    // step of the generator.\n",
              "    outputElement.lastPromiseValue = value;\n",
              "    return next.value.response;\n",
              "  });\n",
              "}\n",
              "\n",
              "/**\n",
              " * Generator function which is called between each async step of the upload\n",
              " * process.\n",
              " * @param {string} inputId Element ID of the input file picker element.\n",
              " * @param {string} outputId Element ID of the output display.\n",
              " * @return {!Iterable<!Object>} Iterable of next steps.\n",
              " */\n",
              "function* uploadFilesStep(inputId, outputId) {\n",
              "  const inputElement = document.getElementById(inputId);\n",
              "  inputElement.disabled = false;\n",
              "\n",
              "  const outputElement = document.getElementById(outputId);\n",
              "  outputElement.innerHTML = '';\n",
              "\n",
              "  const pickedPromise = new Promise((resolve) => {\n",
              "    inputElement.addEventListener('change', (e) => {\n",
              "      resolve(e.target.files);\n",
              "    });\n",
              "  });\n",
              "\n",
              "  const cancel = document.createElement('button');\n",
              "  inputElement.parentElement.appendChild(cancel);\n",
              "  cancel.textContent = 'Cancel upload';\n",
              "  const cancelPromise = new Promise((resolve) => {\n",
              "    cancel.onclick = () => {\n",
              "      resolve(null);\n",
              "    };\n",
              "  });\n",
              "\n",
              "  // Wait for the user to pick the files.\n",
              "  const files = yield {\n",
              "    promise: Promise.race([pickedPromise, cancelPromise]),\n",
              "    response: {\n",
              "      action: 'starting',\n",
              "    }\n",
              "  };\n",
              "\n",
              "  cancel.remove();\n",
              "\n",
              "  // Disable the input element since further picks are not allowed.\n",
              "  inputElement.disabled = true;\n",
              "\n",
              "  if (!files) {\n",
              "    return {\n",
              "      response: {\n",
              "        action: 'complete',\n",
              "      }\n",
              "    };\n",
              "  }\n",
              "\n",
              "  for (const file of files) {\n",
              "    const li = document.createElement('li');\n",
              "    li.append(span(file.name, {fontWeight: 'bold'}));\n",
              "    li.append(span(\n",
              "        `(${file.type || 'n/a'}) - ${file.size} bytes, ` +\n",
              "        `last modified: ${\n",
              "            file.lastModifiedDate ? file.lastModifiedDate.toLocaleDateString() :\n",
              "                                    'n/a'} - `));\n",
              "    const percent = span('0% done');\n",
              "    li.appendChild(percent);\n",
              "\n",
              "    outputElement.appendChild(li);\n",
              "\n",
              "    const fileDataPromise = new Promise((resolve) => {\n",
              "      const reader = new FileReader();\n",
              "      reader.onload = (e) => {\n",
              "        resolve(e.target.result);\n",
              "      };\n",
              "      reader.readAsArrayBuffer(file);\n",
              "    });\n",
              "    // Wait for the data to be ready.\n",
              "    let fileData = yield {\n",
              "      promise: fileDataPromise,\n",
              "      response: {\n",
              "        action: 'continue',\n",
              "      }\n",
              "    };\n",
              "\n",
              "    // Use a chunked sending to avoid message size limits. See b/62115660.\n",
              "    let position = 0;\n",
              "    do {\n",
              "      const length = Math.min(fileData.byteLength - position, MAX_PAYLOAD_SIZE);\n",
              "      const chunk = new Uint8Array(fileData, position, length);\n",
              "      position += length;\n",
              "\n",
              "      const base64 = btoa(String.fromCharCode.apply(null, chunk));\n",
              "      yield {\n",
              "        response: {\n",
              "          action: 'append',\n",
              "          file: file.name,\n",
              "          data: base64,\n",
              "        },\n",
              "      };\n",
              "\n",
              "      let percentDone = fileData.byteLength === 0 ?\n",
              "          100 :\n",
              "          Math.round((position / fileData.byteLength) * 100);\n",
              "      percent.textContent = `${percentDone}% done`;\n",
              "\n",
              "    } while (position < fileData.byteLength);\n",
              "  }\n",
              "\n",
              "  // All done.\n",
              "  yield {\n",
              "    response: {\n",
              "      action: 'complete',\n",
              "    }\n",
              "  };\n",
              "}\n",
              "\n",
              "scope.google = scope.google || {};\n",
              "scope.google.colab = scope.google.colab || {};\n",
              "scope.google.colab._files = {\n",
              "  _uploadFiles,\n",
              "  _uploadFilesContinue,\n",
              "};\n",
              "})(self);\n",
              "</script> "
            ]
          },
          "metadata": {}
        },
        {
          "output_type": "stream",
          "name": "stdout",
          "text": [
            "Saving AAQoL.csv to AAQoL (4).csv\n"
          ]
        }
      ],
      "source": [
        "import pandas as pd\n",
        "import numpy as np\n",
        "\n",
        "from google.colab import files\n",
        "import pandas as pd\n",
        "\n",
        "uploaded = files.upload()\n",
        "aaqol_data = pd.read_csv(list(uploaded.keys())[0])"
      ]
    },
    {
      "cell_type": "markdown",
      "id": "b34c49e0",
      "metadata": {
        "id": "b34c49e0"
      },
      "source": [
        "2. Check for basic information. What data types are the variables? Try to understand them. They fall in the following aspects: basic demographics, feelings of belonging, health and healthcare, support networks, etc.<br>\n",
        "Any missing values? Find the top 10 variables with most missing values."
      ]
    },
    {
      "cell_type": "code",
      "execution_count": null,
      "id": "14b08e75",
      "metadata": {
        "colab": {
          "base_uri": "https://localhost:8080/"
        },
        "id": "14b08e75",
        "outputId": "c3043220-9863-4a3e-f819-d2e8147dbd3a"
      },
      "outputs": [
        {
          "output_type": "stream",
          "name": "stdout",
          "text": [
            "<class 'pandas.core.frame.DataFrame'>\n",
            "RangeIndex: 2609 entries, 0 to 2608\n",
            "Data columns (total 72 columns):\n",
            " #   Column                          Non-Null Count  Dtype  \n",
            "---  ------                          --------------  -----  \n",
            " 0   Survey ID                       2609 non-null   int64  \n",
            " 1   Age                             2600 non-null   float64\n",
            " 2   Gender                          2582 non-null   object \n",
            " 3   Ethnicity                       2607 non-null   object \n",
            " 4   Marital Status                  2591 non-null   object \n",
            " 5   Education Completed             2572 non-null   float64\n",
            " 6   Household Size                  2592 non-null   float64\n",
            " 7   No One                          2604 non-null   object \n",
            " 8   Spouse                          2604 non-null   object \n",
            " 9   Children                        2604 non-null   object \n",
            " 10  Grand Children                  2604 non-null   object \n",
            " 11  Parent                          2604 non-null   object \n",
            " 12  Grandparent                     2571 non-null   float64\n",
            " 13  Brother/Sister                  2604 non-null   object \n",
            " 14  Other Relative                  2552 non-null   float64\n",
            " 15  Friends                         2604 non-null   object \n",
            " 16  Other                           2560 non-null   float64\n",
            " 17  Religion                        2081 non-null   object \n",
            " 18  Full Time Employment            2602 non-null   object \n",
            " 19  Part Time Employment            2602 non-null   object \n",
            " 20  Student                         2601 non-null   object \n",
            " 21  Homemaker                       2602 non-null   object \n",
            " 22  Retired                         2602 non-null   object \n",
            " 23  Occupation                      1814 non-null   object \n",
            " 24  Income                          2406 non-null   object \n",
            " 25  Achieving Ends Meet             2450 non-null   float64\n",
            " 26  US Born                         2592 non-null   object \n",
            " 27  Duration of Residency           2568 non-null   float64\n",
            " 28  Primary Language                2584 non-null   float64\n",
            " 29  English Speaking                2591 non-null   object \n",
            " 30  English Difficulties            2570 non-null   object \n",
            " 31  Familiarity with America        2580 non-null   object \n",
            " 32  Familiarity with Ethnic Origin  2579 non-null   object \n",
            " 33  Identify Ethnically             2574 non-null   object \n",
            " 34  Belonging                       2558 non-null   object \n",
            " 35  Present Health                  2599 non-null   object \n",
            " 36  Present Mental Health           2596 non-null   object \n",
            " 37  Present Oral Health             2593 non-null   object \n",
            " 38  Hygiene Assistance              2587 non-null   float64\n",
            " 39  Smoking                         2590 non-null   float64\n",
            " 40  Drinking                        2590 non-null   float64\n",
            " 41  Regular Exercise                2596 non-null   float64\n",
            " 42  Healthy Diet                    2592 non-null   float64\n",
            " 43  Hypertension                    2583 non-null   object \n",
            " 44  Diabetes                        2573 non-null   object \n",
            " 45  Arthritis                       2574 non-null   object \n",
            " 46  Physical Check-up               2573 non-null   object \n",
            " 47  Dentist Check-up                2562 non-null   object \n",
            " 48  Urgentcare                      2552 non-null   object \n",
            " 49  Folkmedicine                    2537 non-null   object \n",
            " 50  Primary Care                    2571 non-null   object \n",
            " 51  Health Insurance                2588 non-null   object \n",
            " 52  Dental Insurance                2579 non-null   object \n",
            " 53  Unmet Health Need               2582 non-null   object \n",
            " 54  Unmet Dental Needs              2569 non-null   object \n",
            " 55  Transportation (Medical)        2582 non-null   object \n",
            " 56  Interpretation (Medical)        2584 non-null   object \n",
            " 57  Comunication Problem            2580 non-null   object \n",
            " 58  Preferance                      2546 non-null   object \n",
            " 59  Language                        2607 non-null   object \n",
            " 60  Family                          2590 non-null   object \n",
            " 61  Close Friend                    2590 non-null   object \n",
            " 62  Acquaintances                   2589 non-null   object \n",
            " 63  Heal Professionals              2590 non-null   object \n",
            " 64  Mobile Apps                     2590 non-null   object \n",
            " 65  Email                           2590 non-null   object \n",
            " 66  Social Networks                 2590 non-null   object \n",
            " 67  Online Communities              2590 non-null   object \n",
            " 68  Health Website                  2590 non-null   object \n",
            " 69  Other                           2586 non-null   float64\n",
            " 70  Quality of Life                 2565 non-null   float64\n",
            " 71  Satisfied With Life             2559 non-null   object \n",
            "dtypes: float64(16), int64(1), object(55)\n",
            "memory usage: 1.4+ MB\n"
          ]
        },
        {
          "output_type": "execute_result",
          "data": {
            "text/plain": [
              "(Survey ID                int64\n",
              " Age                    float64\n",
              " Gender                  object\n",
              " Ethnicity               object\n",
              " Marital Status          object\n",
              "                         ...   \n",
              " Online Communities      object\n",
              " Health Website          object\n",
              " Other                  float64\n",
              " Quality of Life        float64\n",
              " Satisfied With Life     object\n",
              " Length: 72, dtype: object,\n",
              " Occupation             795\n",
              " Religion               528\n",
              " Income                 203\n",
              " Achieving Ends Meet    159\n",
              " Folkmedicine            72\n",
              "                       ... \n",
              " Parent                   5\n",
              " Brother/Sister           5\n",
              " Language                 2\n",
              " Ethnicity                2\n",
              " Survey ID                0\n",
              " Length: 72, dtype: int64,\n",
              " Occupation             795\n",
              " Religion               528\n",
              " Income                 203\n",
              " Achieving Ends Meet    159\n",
              " Folkmedicine            72\n",
              " Preferance              63\n",
              " Urgentcare              57\n",
              " Other Relative          57\n",
              " Belonging               51\n",
              " Satisfied With Life     50\n",
              " dtype: int64)"
            ]
          },
          "metadata": {},
          "execution_count": 100
        }
      ],
      "source": [
        "aaqol_data.info()\n",
        "data_types = aaqol_data.dtypes\n",
        "\n",
        "missing_values = aaqol_data.isnull().sum().sort_values(ascending=False)\n",
        "\n",
        "# Identifying top 10 variables with the most missing values\n",
        "top_missing = missing_values.head(10)\n",
        "\n",
        "data_types, missing_values, top_missing"
      ]
    },
    {
      "cell_type": "markdown",
      "source": [
        "The variables are of dtypes: int64, float64, object. Yes there are missing values and the top most variable with most missing values is \"ocupation\"."
      ],
      "metadata": {
        "id": "LOdCOTf-yEO2"
      },
      "id": "LOdCOTf-yEO2"
    },
    {
      "cell_type": "markdown",
      "id": "494c5efd",
      "metadata": {
        "id": "494c5efd"
      },
      "source": [
        "How many observations with missing values? The number suggests that we need to work on it."
      ]
    },
    {
      "cell_type": "code",
      "execution_count": null,
      "id": "789b3b11",
      "metadata": {
        "colab": {
          "base_uri": "https://localhost:8080/"
        },
        "id": "789b3b11",
        "outputId": "752afb12-cbcd-44bd-fe48-bce0f95c8254"
      },
      "outputs": [
        {
          "output_type": "stream",
          "name": "stdout",
          "text": [
            "Number of observations with missing values: 1505\n"
          ]
        }
      ],
      "source": [
        "observations_with_missing = aaqol_data.isnull().any(axis=1).sum()\n",
        "print(f\"Number of observations with missing values: {observations_with_missing}\")"
      ]
    },
    {
      "cell_type": "markdown",
      "id": "8c4e28f7",
      "metadata": {
        "id": "8c4e28f7"
      },
      "source": [
        "How many observations miss more than 10 values? Show them."
      ]
    },
    {
      "cell_type": "code",
      "execution_count": null,
      "id": "149cd0e3",
      "metadata": {
        "colab": {
          "base_uri": "https://localhost:8080/"
        },
        "id": "149cd0e3",
        "outputId": "9a52e57f-4778-4355-8cbf-34ffc48ee16d"
      },
      "outputs": [
        {
          "output_type": "stream",
          "name": "stdout",
          "text": [
            "Number of observations missing more than 10 values: 30\n",
            "Observations missing more than 10 values:       Survey ID   Age  Gender     Ethnicity         Marital Status  \\\n",
            "0         80314   NaN     NaN    Vietnamese                    NaN   \n",
            "1         60171  60.0    Male       Chinese                Married   \n",
            "4         10494  29.0    Male  Asian Indian                 Single   \n",
            "5         10786  34.0  Female  Asian Indian                Married   \n",
            "7         10858  47.0    Male  Asian Indian                Married   \n",
            "17     10040055  68.0  Female      Filipino                Married   \n",
            "19        30052   NaN     NaN           NaN                    NaN   \n",
            "20        80438   NaN     NaN           NaN                    NaN   \n",
            "22        60100  72.0  Female       Chinese                Married   \n",
            "41        50011  75.0  Female       Chinese                Married   \n",
            "374       60151  72.0    Male       Chinese                Married   \n",
            "433       50027  56.0  Female       Chinese                Married   \n",
            "544       60224  44.0  Female       Chinese                Married   \n",
            "567       10143  82.0    Male       Chinese                Married   \n",
            "661       20031  50.0    Male  Asian Indian  Living with a partner   \n",
            "1240      70465  43.0    Male        Korean                    NaN   \n",
            "1297      70367  59.0  Female        Korean                  Other   \n",
            "1380      70341  22.0  Female        Korean                 Single   \n",
            "1458      70409  65.0  Female        Korean                Married   \n",
            "1555      70473  77.0  Female        Korean                Married   \n",
            "1715   10040098  18.0    Male    Vietnamese                 Single   \n",
            "1730      80145  61.0  Female    Vietnamese                Married   \n",
            "1852      10311  22.0  Female    Vietnamese                 Single   \n",
            "1873      80436   NaN     NaN    Vietnamese                Married   \n",
            "2147      80464  41.0  Female    Vietnamese                Married   \n",
            "2213      11074  75.0  Female      Filipino                 Single   \n",
            "2233      90037  60.0  Female      Filipino                Married   \n",
            "2249      90038  69.0    Male      Filipino                Married   \n",
            "2297      11083  65.0  Female      Filipino                    NaN   \n",
            "2355      11198  40.0  Female      Filipino                Married   \n",
            "\n",
            "      Education Completed  Household Size              No One  \\\n",
            "0                     NaN             NaN                 NaN   \n",
            "1                    13.0             6.0                   0   \n",
            "4                    17.0             1.0  Living with no one   \n",
            "5                    17.0             3.0                   0   \n",
            "7                    17.0             5.0                   0   \n",
            "17                   14.0             3.0                   0   \n",
            "19                    NaN             NaN                 NaN   \n",
            "20                    NaN             NaN                 NaN   \n",
            "22                   12.0             5.0                   0   \n",
            "41                   16.0             6.0                   0   \n",
            "374                  16.0             5.0                   0   \n",
            "433                  16.0             3.0                   0   \n",
            "544                  17.0             4.0                   0   \n",
            "567                  17.0             2.0                   0   \n",
            "661                  10.0             4.0                   0   \n",
            "1240                  NaN             2.0                   0   \n",
            "1297                 14.0             NaN                 NaN   \n",
            "1380                 14.0             1.0  Living with no one   \n",
            "1458                 12.0             2.0                   0   \n",
            "1555                 14.0             1.0  Living with no one   \n",
            "1715                 11.0             4.0                   0   \n",
            "1730                 12.0             2.0                   0   \n",
            "1852                 15.0             4.0                   0   \n",
            "1873                  8.0             2.0                   0   \n",
            "2147                 12.0             5.0                   0   \n",
            "2213                  NaN             3.0                   0   \n",
            "2233                  8.0             5.0                   0   \n",
            "2249                  6.0             5.0                   0   \n",
            "2297                 17.0             5.0                 NaN   \n",
            "2355                 17.0             4.0                   0   \n",
            "\n",
            "                  Spouse              Children  ... Acquaintances  \\\n",
            "0                    NaN                   NaN  ...           NaN   \n",
            "1                      0  Living with children  ...           NaN   \n",
            "4                      0                     0  ...           NaN   \n",
            "5     Living with spouse  Living with children  ...           NaN   \n",
            "7     Living with spouse  Living with children  ...           NaN   \n",
            "17    Living with spouse  Living with children  ...            No   \n",
            "19                   NaN                   NaN  ...           NaN   \n",
            "20                   NaN                   NaN  ...           NaN   \n",
            "22                     0  Living with children  ...           NaN   \n",
            "41                     0  Living with children  ...            No   \n",
            "374   Living with spouse  Living with children  ...           Yes   \n",
            "433                    0  Living with children  ...            No   \n",
            "544   Living with spouse  Living with children  ...            No   \n",
            "567   Living with spouse                     0  ...            No   \n",
            "661                    0  Living with children  ...            No   \n",
            "1240                   0  Living with children  ...            No   \n",
            "1297                 NaN                   NaN  ...           Yes   \n",
            "1380                   0                     0  ...           NaN   \n",
            "1458  Living with spouse                     0  ...            No   \n",
            "1555                   0                     0  ...            No   \n",
            "1715                   0                     0  ...           NaN   \n",
            "1730  Living with spouse  Living with children  ...           NaN   \n",
            "1852                   0                     0  ...           Yes   \n",
            "1873  Living with spouse                     0  ...           NaN   \n",
            "2147  Living with spouse  Living with children  ...           NaN   \n",
            "2213                   0  Living with children  ...           NaN   \n",
            "2233  Living with spouse  Living with children  ...           NaN   \n",
            "2249  Living with spouse  Living with children  ...           NaN   \n",
            "2297                 NaN                   NaN  ...            No   \n",
            "2355  Living with spouse  Living with children  ...            No   \n",
            "\n",
            "     Heal Professionals  Mobile Apps Email  Social Networks  \\\n",
            "0                   NaN          NaN   NaN              NaN   \n",
            "1                   NaN          NaN   NaN              NaN   \n",
            "4                   NaN          NaN   NaN              NaN   \n",
            "5                   NaN          NaN   NaN              NaN   \n",
            "7                   NaN          NaN   NaN              NaN   \n",
            "17                   No           No    No               No   \n",
            "19                  NaN          NaN   NaN              NaN   \n",
            "20                  NaN          NaN   NaN              NaN   \n",
            "22                  NaN          NaN   NaN              NaN   \n",
            "41                   No           No    No               No   \n",
            "374                  No           No    No               No   \n",
            "433                  No           No   Yes              Yes   \n",
            "544                 Yes           No    No               No   \n",
            "567                  No           No    No               No   \n",
            "661                  No           No    No               No   \n",
            "1240                Yes           No    No               No   \n",
            "1297                 No           No    No               No   \n",
            "1380                NaN          NaN   NaN              NaN   \n",
            "1458                 No           No    No              Yes   \n",
            "1555                Yes           No    No               No   \n",
            "1715                NaN          NaN   NaN              NaN   \n",
            "1730                NaN          NaN   NaN              NaN   \n",
            "1852                 No           No    No               No   \n",
            "1873                NaN          NaN   NaN              NaN   \n",
            "2147                NaN          NaN   NaN              NaN   \n",
            "2213                NaN          NaN   NaN              NaN   \n",
            "2233                NaN          NaN   NaN              NaN   \n",
            "2249                NaN          NaN   NaN              NaN   \n",
            "2297                 No           No    No               No   \n",
            "2355                 No           No    No               No   \n",
            "\n",
            "     Online Communities  Health Website Other Quality of Life  \\\n",
            "0                   NaN             NaN   NaN             NaN   \n",
            "1                   NaN             NaN   NaN             NaN   \n",
            "4                   NaN             NaN   NaN             NaN   \n",
            "5                   NaN             NaN   NaN             5.0   \n",
            "7                   NaN             NaN   NaN             NaN   \n",
            "17                   No              No   0.0             8.0   \n",
            "19                  NaN             NaN   NaN             NaN   \n",
            "20                  NaN             NaN   NaN             NaN   \n",
            "22                  NaN             NaN   NaN             NaN   \n",
            "41                   No              No   1.0             5.0   \n",
            "374                  No              No   0.0             6.0   \n",
            "433                 Yes             Yes   0.0             5.0   \n",
            "544                  No             Yes   0.0             8.0   \n",
            "567                  No              No   0.0             9.0   \n",
            "661                  No              No   0.0             NaN   \n",
            "1240                 No              No   0.0             3.0   \n",
            "1297                 No              No   0.0            10.0   \n",
            "1380                NaN             NaN   NaN             8.0   \n",
            "1458                 No              No   0.0            10.0   \n",
            "1555                 No              No   1.0             6.0   \n",
            "1715                NaN             NaN   NaN             7.0   \n",
            "1730                NaN             NaN   NaN             NaN   \n",
            "1852                 No              No   0.0             7.0   \n",
            "1873                NaN             NaN   NaN             NaN   \n",
            "2147                NaN             NaN   NaN             6.0   \n",
            "2213                NaN             NaN   NaN            10.0   \n",
            "2233                NaN             NaN   NaN             5.0   \n",
            "2249                NaN             NaN   NaN             6.0   \n",
            "2297                 No              No   0.0             NaN   \n",
            "2355                 No              No   0.0             8.0   \n",
            "\n",
            "            Satisfied With Life  \n",
            "0                           NaN  \n",
            "1                           NaN  \n",
            "4                           NaN  \n",
            "5                Slightly agree  \n",
            "7                           NaN  \n",
            "17                        Agree  \n",
            "19                          NaN  \n",
            "20                          NaN  \n",
            "22                          NaN  \n",
            "41               Slightly agree  \n",
            "374   Neither agree or disagree  \n",
            "433   Neither agree or disagree  \n",
            "544                       Agree  \n",
            "567                       Agree  \n",
            "661           Slightly disagree  \n",
            "1240          Slightly disagree  \n",
            "1297             Slightly agree  \n",
            "1380                      Agree  \n",
            "1458                      Agree  \n",
            "1555  Neither agree or disagree  \n",
            "1715  Neither agree or disagree  \n",
            "1730                        NaN  \n",
            "1852          Slightly disagree  \n",
            "1873  Neither agree or disagree  \n",
            "2147                        NaN  \n",
            "2213             Strongly agree  \n",
            "2233                      Agree  \n",
            "2249             Slightly agree  \n",
            "2297                        NaN  \n",
            "2355                      Agree  \n",
            "\n",
            "[30 rows x 72 columns]\n"
          ]
        }
      ],
      "source": [
        "observations_missing_more_than_10 = aaqol_data[aaqol_data.isnull().sum(axis=1) > 10]\n",
        "\n",
        "# Count the number of such observations\n",
        "count_missing_more_than_10 = observations_missing_more_than_10.shape[0]\n",
        "\n",
        "# Print the count and display the rows\n",
        "print(f\"Number of observations missing more than 10 values: {count_missing_more_than_10}\")\n",
        "print(f\"Observations missing more than 10 values: {observations_missing_more_than_10}\")"
      ]
    },
    {
      "cell_type": "markdown",
      "id": "42e65c34",
      "metadata": {
        "id": "42e65c34"
      },
      "source": [
        "3. We will work on the missing values later. Let's explore the data first. Make a graph to show the distribution of Ethnicity. Which is the largest ethnic group in the survey?"
      ]
    },
    {
      "cell_type": "code",
      "execution_count": null,
      "id": "644ccbcc",
      "metadata": {
        "colab": {
          "base_uri": "https://localhost:8080/",
          "height": 833
        },
        "id": "644ccbcc",
        "outputId": "bb14148b-7742-4da3-bb2a-5a8008e6092d"
      },
      "outputs": [
        {
          "output_type": "execute_result",
          "data": {
            "text/plain": [
              "<Figure size 1000x600 with 0 Axes>"
            ]
          },
          "metadata": {},
          "execution_count": 103
        },
        {
          "output_type": "execute_result",
          "data": {
            "text/plain": [
              "<Axes: xlabel='Ethnicity'>"
            ]
          },
          "metadata": {},
          "execution_count": 103
        },
        {
          "output_type": "execute_result",
          "data": {
            "text/plain": [
              "Text(0.5, 1.0, 'Distribution of Ethnicity')"
            ]
          },
          "metadata": {},
          "execution_count": 103
        },
        {
          "output_type": "execute_result",
          "data": {
            "text/plain": [
              "Text(0.5, 0, 'Ethnicity')"
            ]
          },
          "metadata": {},
          "execution_count": 103
        },
        {
          "output_type": "execute_result",
          "data": {
            "text/plain": [
              "Text(0, 0.5, 'Number of Respondents')"
            ]
          },
          "metadata": {},
          "execution_count": 103
        },
        {
          "output_type": "execute_result",
          "data": {
            "text/plain": [
              "(array([0, 1, 2, 3, 4, 5]),\n",
              " [Text(0, 0, 'Chinese'),\n",
              "  Text(1, 0, 'Asian Indian'),\n",
              "  Text(2, 0, 'Vietnamese'),\n",
              "  Text(3, 0, 'Korean'),\n",
              "  Text(4, 0, 'Filipino'),\n",
              "  Text(5, 0, 'Other')])"
            ]
          },
          "metadata": {},
          "execution_count": 103
        },
        {
          "output_type": "display_data",
          "data": {
            "text/plain": [
              "<Figure size 1000x600 with 1 Axes>"
            ],
            "image/png": "[encoded data removed]"
          },
          "metadata": {}
        },
        {
          "output_type": "stream",
          "name": "stdout",
          "text": [
            "The largest ethnic group is 'Chinese' with 639 respondents.\n"
          ]
        }
      ],
      "source": [
        "import matplotlib.pyplot as plt\n",
        "\n",
        "ethnicity_counts = aaqol_data['Ethnicity'].value_counts()\n",
        "\n",
        "plt.figure(figsize=(10, 6))\n",
        "ethnicity_counts.plot(kind='bar', color='skyblue', edgecolor='black')\n",
        "plt.title('Distribution of Ethnicity', fontsize=16)\n",
        "plt.xlabel('Ethnicity', fontsize=12)\n",
        "plt.ylabel('Number of Respondents', fontsize=12)\n",
        "plt.xticks(rotation=45, fontsize=10)\n",
        "plt.tight_layout()\n",
        "plt.show()\n",
        "\n",
        "largest_ethnic_group = ethnicity_counts.idxmax()\n",
        "largest_count = ethnicity_counts.max()\n",
        "print(f\"The largest ethnic group is '{largest_ethnic_group}' with {largest_count} respondents.\")"
      ]
    },
    {
      "cell_type": "markdown",
      "source": [
        "The largest ethnic group is 'Chinese' with 639 respondents."
      ],
      "metadata": {
        "id": "UVNFUAVA0mWX"
      },
      "id": "UVNFUAVA0mWX"
    },
    {
      "cell_type": "markdown",
      "id": "3c167d50",
      "metadata": {
        "id": "3c167d50"
      },
      "source": [
        "Make a graph to show the average quality of life score for each ethnicity group. Which group has the highest score for quality of life?"
      ]
    },
    {
      "cell_type": "code",
      "execution_count": null,
      "id": "507c483c",
      "metadata": {
        "scrolled": true,
        "colab": {
          "base_uri": "https://localhost:8080/",
          "height": 833
        },
        "id": "507c483c",
        "outputId": "ac42234b-e0b7-4dde-e995-8ef943ed49bd"
      },
      "outputs": [
        {
          "output_type": "execute_result",
          "data": {
            "text/plain": [
              "<Figure size 1000x600 with 0 Axes>"
            ]
          },
          "metadata": {},
          "execution_count": 104
        },
        {
          "output_type": "execute_result",
          "data": {
            "text/plain": [
              "<Axes: xlabel='Ethnicity'>"
            ]
          },
          "metadata": {},
          "execution_count": 104
        },
        {
          "output_type": "execute_result",
          "data": {
            "text/plain": [
              "Text(0.5, 1.0, 'Average Quality of Life Score by Ethnicity')"
            ]
          },
          "metadata": {},
          "execution_count": 104
        },
        {
          "output_type": "execute_result",
          "data": {
            "text/plain": [
              "Text(0.5, 0, 'Ethnicity')"
            ]
          },
          "metadata": {},
          "execution_count": 104
        },
        {
          "output_type": "execute_result",
          "data": {
            "text/plain": [
              "Text(0, 0.5, 'Average Quality of Life Score')"
            ]
          },
          "metadata": {},
          "execution_count": 104
        },
        {
          "output_type": "execute_result",
          "data": {
            "text/plain": [
              "(array([0, 1, 2, 3, 4, 5]),\n",
              " [Text(0, 0, 'Filipino'),\n",
              "  Text(1, 0, 'Asian Indian'),\n",
              "  Text(2, 0, 'Other'),\n",
              "  Text(3, 0, 'Korean'),\n",
              "  Text(4, 0, 'Vietnamese'),\n",
              "  Text(5, 0, 'Chinese')])"
            ]
          },
          "metadata": {},
          "execution_count": 104
        },
        {
          "output_type": "display_data",
          "data": {
            "text/plain": [
              "<Figure size 1000x600 with 1 Axes>"
            ],
            "image/png": "[encoded data removed]"
          },
          "metadata": {}
        },
        {
          "output_type": "stream",
          "name": "stdout",
          "text": [
            "The ethnic group with the highest average quality of life score is 'Filipino' with a score of 8.24.\n"
          ]
        }
      ],
      "source": [
        "import matplotlib.pyplot as plt\n",
        "\n",
        "average_quality_of_life = aaqol_data.groupby('Ethnicity')['Quality of Life'].mean().sort_values(ascending=False)\n",
        "\n",
        "plt.figure(figsize=(10, 6))\n",
        "average_quality_of_life.plot(kind='bar', color='seagreen', edgecolor='black')\n",
        "plt.title('Average Quality of Life Score by Ethnicity', fontsize=16)\n",
        "plt.xlabel('Ethnicity', fontsize=12)\n",
        "plt.ylabel('Average Quality of Life Score', fontsize=12)\n",
        "plt.xticks(rotation=45, fontsize=10)\n",
        "plt.tight_layout()\n",
        "plt.show()\n",
        "\n",
        "highest_quality_group = average_quality_of_life.idxmax()\n",
        "highest_quality_score = average_quality_of_life.max()\n",
        "print(f\"The ethnic group with the highest average quality of life score is '{highest_quality_group}' with a score of {highest_quality_score:.2f}.\")"
      ]
    },
    {
      "cell_type": "markdown",
      "source": [
        "The ethnic group with the highest average quality of life score is 'Filipino' with a score of 8.24."
      ],
      "metadata": {
        "id": "g_UuWhgQ1J0_"
      },
      "id": "g_UuWhgQ1J0_"
    },
    {
      "cell_type": "markdown",
      "id": "84ef4a87",
      "metadata": {
        "id": "84ef4a87"
      },
      "source": [
        "Make a similar graph to show average education completed each ethnicity group. Which group has the highest years of education completed?"
      ]
    },
    {
      "cell_type": "code",
      "execution_count": null,
      "id": "60bea2c9",
      "metadata": {
        "colab": {
          "base_uri": "https://localhost:8080/",
          "height": 833
        },
        "id": "60bea2c9",
        "outputId": "67e29154-8a94-4f80-ef39-89ad60981f90"
      },
      "outputs": [
        {
          "output_type": "execute_result",
          "data": {
            "text/plain": [
              "<Figure size 1000x600 with 0 Axes>"
            ]
          },
          "metadata": {},
          "execution_count": 105
        },
        {
          "output_type": "execute_result",
          "data": {
            "text/plain": [
              "<Axes: xlabel='Ethnicity'>"
            ]
          },
          "metadata": {},
          "execution_count": 105
        },
        {
          "output_type": "execute_result",
          "data": {
            "text/plain": [
              "Text(0.5, 1.0, 'Average Education Completed by Ethnicity')"
            ]
          },
          "metadata": {},
          "execution_count": 105
        },
        {
          "output_type": "execute_result",
          "data": {
            "text/plain": [
              "Text(0.5, 0, 'Ethnicity')"
            ]
          },
          "metadata": {},
          "execution_count": 105
        },
        {
          "output_type": "execute_result",
          "data": {
            "text/plain": [
              "Text(0, 0.5, 'Average Years of Education Completed')"
            ]
          },
          "metadata": {},
          "execution_count": 105
        },
        {
          "output_type": "execute_result",
          "data": {
            "text/plain": [
              "(array([0, 1, 2, 3, 4, 5]),\n",
              " [Text(0, 0, 'Asian Indian'),\n",
              "  Text(1, 0, 'Chinese'),\n",
              "  Text(2, 0, 'Korean'),\n",
              "  Text(3, 0, 'Filipino'),\n",
              "  Text(4, 0, 'Other'),\n",
              "  Text(5, 0, 'Vietnamese')])"
            ]
          },
          "metadata": {},
          "execution_count": 105
        },
        {
          "output_type": "display_data",
          "data": {
            "text/plain": [
              "<Figure size 1000x600 with 1 Axes>"
            ],
            "image/png": "[encoded data removed]"
          },
          "metadata": {}
        },
        {
          "output_type": "stream",
          "name": "stdout",
          "text": [
            "The ethnic group with the highest average years of education completed is 'Asian Indian' with 16.13 years.\n"
          ]
        }
      ],
      "source": [
        "import matplotlib.pyplot as plt\n",
        "\n",
        "average_education_completed = aaqol_data.groupby('Ethnicity')['Education Completed'].mean().sort_values(ascending=False)\n",
        "\n",
        "plt.figure(figsize=(10, 6))\n",
        "average_education_completed.plot(kind='bar', color='royalblue', edgecolor='black')\n",
        "plt.title('Average Education Completed by Ethnicity', fontsize=16)\n",
        "plt.xlabel('Ethnicity', fontsize=12)\n",
        "plt.ylabel('Average Years of Education Completed', fontsize=12)\n",
        "plt.xticks(rotation=45, fontsize=10)\n",
        "plt.tight_layout()\n",
        "plt.show()\n",
        "\n",
        "highest_education_group = average_education_completed.idxmax()\n",
        "highest_education_score = average_education_completed.max()\n",
        "print(f\"The ethnic group with the highest average years of education completed is '{highest_education_group}' with {highest_education_score:.2f} years.\")"
      ]
    },
    {
      "cell_type": "markdown",
      "source": [
        "The ethnic group with the highest average years of education completed is 'Asian Indian' with 16.13 years."
      ],
      "metadata": {
        "id": "zQJ9nNZM1aTP"
      },
      "id": "zQJ9nNZM1aTP"
    },
    {
      "cell_type": "markdown",
      "id": "ba187e01",
      "metadata": {
        "id": "ba187e01"
      },
      "source": [
        "Make a graph to explore the relationship between 'Education Completed' and 'Quality of Life'. What do you observe?"
      ]
    },
    {
      "cell_type": "code",
      "execution_count": null,
      "id": "61e8d4b5",
      "metadata": {
        "colab": {
          "base_uri": "https://localhost:8080/",
          "height": 694
        },
        "id": "61e8d4b5",
        "outputId": "07cf5eb0-a33d-47ce-c1a2-e34303c9b051"
      },
      "outputs": [
        {
          "output_type": "execute_result",
          "data": {
            "text/plain": [
              "<Figure size 1000x600 with 0 Axes>"
            ]
          },
          "metadata": {},
          "execution_count": 106
        },
        {
          "output_type": "execute_result",
          "data": {
            "text/plain": [
              "<matplotlib.collections.PathCollection at 0x7ab4fd262d10>"
            ]
          },
          "metadata": {},
          "execution_count": 106
        },
        {
          "output_type": "execute_result",
          "data": {
            "text/plain": [
              "Text(0.5, 1.0, 'Relationship Between Education Completed and Quality of Life')"
            ]
          },
          "metadata": {},
          "execution_count": 106
        },
        {
          "output_type": "execute_result",
          "data": {
            "text/plain": [
              "Text(0.5, 0, 'Education Completed (Years)')"
            ]
          },
          "metadata": {},
          "execution_count": 106
        },
        {
          "output_type": "execute_result",
          "data": {
            "text/plain": [
              "Text(0, 0.5, 'Quality of Life Score')"
            ]
          },
          "metadata": {},
          "execution_count": 106
        },
        {
          "output_type": "display_data",
          "data": {
            "text/plain": [
              "<Figure size 1000x600 with 1 Axes>"
            ],
            "image/png": "[encoded data removed]"
          },
          "metadata": {}
        }
      ],
      "source": [
        "import matplotlib.pyplot as plt\n",
        "\n",
        "plt.figure(figsize=(10, 6))\n",
        "plt.scatter(aaqol_data['Education Completed'], aaqol_data['Quality of Life'], alpha=0.5, color='purple')\n",
        "plt.title('Relationship Between Education Completed and Quality of Life', fontsize=16)\n",
        "plt.xlabel('Education Completed (Years)', fontsize=12)\n",
        "plt.ylabel('Quality of Life Score', fontsize=12)\n",
        "plt.tight_layout()\n",
        "plt.show()"
      ]
    },
    {
      "cell_type": "markdown",
      "source": [
        "I do observe that the scatter plot is heavily plotted towards the top right of the graph, which indicated the higher the education years completed, the higher is the Quality of life score."
      ],
      "metadata": {
        "id": "QvuwNO2-1yun"
      },
      "id": "QvuwNO2-1yun"
    },
    {
      "cell_type": "markdown",
      "id": "8cd54aee",
      "metadata": {
        "id": "8cd54aee"
      },
      "source": [
        "Make a graph to explore the relationship between 'Present Health' and 'Quality of Life'. Think about what graph is more appropriate. What do you observe?"
      ]
    },
    {
      "cell_type": "code",
      "execution_count": null,
      "id": "9d33f841",
      "metadata": {
        "colab": {
          "base_uri": "https://localhost:8080/",
          "height": 781
        },
        "id": "9d33f841",
        "outputId": "1cde6744-916b-4a9a-d41c-c45887cf6884"
      },
      "outputs": [
        {
          "output_type": "execute_result",
          "data": {
            "text/plain": [
              "<Figure size 1000x600 with 0 Axes>"
            ]
          },
          "metadata": {},
          "execution_count": 108
        },
        {
          "output_type": "stream",
          "name": "stderr",
          "text": [
            "<ipython-input-108-51c50f1e5824>:8: FutureWarning: \n",
            "\n",
            "Passing `palette` without assigning `hue` is deprecated and will be removed in v0.14.0. Assign the `x` variable to `hue` and set `legend=False` for the same effect.\n",
            "\n",
            "  sns.boxplot(x='Present Health', y='Quality of Life', data=aaqol_data, palette='Set2')\n"
          ]
        },
        {
          "output_type": "execute_result",
          "data": {
            "text/plain": [
              "<Axes: xlabel='Present Health', ylabel='Quality of Life'>"
            ]
          },
          "metadata": {},
          "execution_count": 108
        },
        {
          "output_type": "execute_result",
          "data": {
            "text/plain": [
              "Text(0.5, 1.0, 'Quality of Life Distribution by Present Health')"
            ]
          },
          "metadata": {},
          "execution_count": 108
        },
        {
          "output_type": "execute_result",
          "data": {
            "text/plain": [
              "Text(0.5, 0, 'Present Health')"
            ]
          },
          "metadata": {},
          "execution_count": 108
        },
        {
          "output_type": "execute_result",
          "data": {
            "text/plain": [
              "Text(0, 0.5, 'Quality of Life')"
            ]
          },
          "metadata": {},
          "execution_count": 108
        },
        {
          "output_type": "display_data",
          "data": {
            "text/plain": [
              "<Figure size 1000x600 with 1 Axes>"
            ],
            "image/png": "[encoded data removed]"
          },
          "metadata": {}
        }
      ],
      "source": [
        "import seaborn as sns\n",
        "import matplotlib.pyplot as plt\n",
        "\n",
        "aaqol_data['Quality of Life'] = pd.to_numeric(aaqol_data['Quality of Life'], errors='coerce')\n",
        "aaqol_data['Present Health'] = aaqol_data['Present Health'].astype('category')\n",
        "\n",
        "plt.figure(figsize=(10, 6))\n",
        "sns.boxplot(x='Present Health', y='Quality of Life', data=aaqol_data, palette='Set2')\n",
        "\n",
        "plt.title('Quality of Life Distribution by Present Health', fontsize=16)\n",
        "plt.xlabel('Present Health', fontsize=12)\n",
        "plt.ylabel('Quality of Life', fontsize=12)\n",
        "\n",
        "plt.tight_layout()\n",
        "plt.show()\n"
      ]
    },
    {
      "cell_type": "markdown",
      "source": [
        "I observe that the better the quality of life the better is the present health"
      ],
      "metadata": {
        "id": "rqemNdl8GSpj"
      },
      "id": "rqemNdl8GSpj"
    },
    {
      "cell_type": "markdown",
      "id": "75083a62",
      "metadata": {
        "id": "75083a62"
      },
      "source": [
        "Make a pivot table of 'Present Health' and 'Present Mental Health'. What do you observe?"
      ]
    },
    {
      "cell_type": "code",
      "execution_count": null,
      "id": "ee154f89",
      "metadata": {
        "colab": {
          "base_uri": "https://localhost:8080/",
          "height": 353
        },
        "id": "ee154f89",
        "outputId": "f74299b7-fe28-4d7f-9ce7-6f901a2840ac"
      },
      "outputs": [
        {
          "output_type": "stream",
          "name": "stderr",
          "text": [
            "<ipython-input-109-53b68f5c0a22>:2: FutureWarning: The default value of observed=False is deprecated and will change to observed=True in a future version of pandas. Specify observed=False to silence this warning and retain the current behavior\n",
            "  pivot_table = pd.pivot_table(aaqol_data, index='Present Health', columns='Present Mental Health', aggfunc='count')\n"
          ]
        },
        {
          "output_type": "execute_result",
          "data": {
            "text/plain": [
              "                      Achieving Ends Meet                           \\\n",
              "Present Mental Health           Excellent Fair Good Poor Very Good   \n",
              "Present Health                                                       \n",
              "Excellent                             417    6   13    3        66   \n",
              "Fair                                    4  103   62    3        36   \n",
              "Good                                   54   34  492    6       154   \n",
              "Poor                                    3   14    6   12         2   \n",
              "Very Good                             131   17  103    2       696   \n",
              "\n",
              "                      Acquaintances                           ...  \\\n",
              "Present Mental Health     Excellent Fair Good Poor Very Good  ...   \n",
              "Present Health                                                ...   \n",
              "Excellent                       434    6   13    3        71  ...   \n",
              "Fair                              4  119   68    4        38  ...   \n",
              "Good                             57   37  526    6       163  ...   \n",
              "Poor                              3   15    7   13         2  ...   \n",
              "Very Good                       134   17  111    2       726  ...   \n",
              "\n",
              "                      Unmet Health Need                          Urgentcare  \\\n",
              "Present Mental Health         Excellent Fair Good Poor Very Good  Excellent   \n",
              "Present Health                                                                \n",
              "Excellent                           435    6   14    3        71        428   \n",
              "Fair                                  4  118   67    4        38          4   \n",
              "Good                                 57   36  523    6       163         55   \n",
              "Poor                                  3   14    7   13         2          3   \n",
              "Very Good                           133   17  112    2       726        133   \n",
              "\n",
              "                                                \n",
              "Present Mental Health Fair Good Poor Very Good  \n",
              "Present Health                                  \n",
              "Excellent                6   13    3        71  \n",
              "Fair                   119   67    4        39  \n",
              "Good                    37  516    6       159  \n",
              "Poor                    15    7   12         1  \n",
              "Very Good               17  107    2       718  \n",
              "\n",
              "[5 rows x 350 columns]"
            ],
            "text/html": [
              "\n",
              "  <div id=\"df-a06b2150-535b-4eef-bb4b-bf6ba8b4ed77\" class=\"colab-df-container\">\n",
              "    <div>\n",
              "<style scoped>\n",
              "    .dataframe tbody tr th:only-of-type {\n",
              "        vertical-align: middle;\n",
              "    }\n",
              "\n",
              "    .dataframe tbody tr th {\n",
              "        vertical-align: top;\n",
              "    }\n",
              "\n",
              "    .dataframe thead tr th {\n",
              "        text-align: left;\n",
              "    }\n",
              "\n",
              "    .dataframe thead tr:last-of-type th {\n",
              "        text-align: right;\n",
              "    }\n",
              "</style>\n",
              "<table border=\"1\" class=\"dataframe\">\n",
              "  <thead>\n",
              "    <tr>\n",
              "      <th></th>\n",
              "      <th colspan=\"5\" halign=\"left\">Achieving Ends Meet</th>\n",
              "      <th colspan=\"5\" halign=\"left\">Acquaintances</th>\n",
              "      <th>...</th>\n",
              "      <th colspan=\"5\" halign=\"left\">Unmet Health Need</th>\n",
              "      <th colspan=\"5\" halign=\"left\">Urgentcare</th>\n",
              "    </tr>\n",
              "    <tr>\n",
              "      <th>Present Mental Health</th>\n",
              "      <th>Excellent</th>\n",
              "      <th>Fair</th>\n",
              "      <th>Good</th>\n",
              "      <th>Poor</th>\n",
              "      <th>Very Good</th>\n",
              "      <th>Excellent</th>\n",
              "      <th>Fair</th>\n",
              "      <th>Good</th>\n",
              "      <th>Poor</th>\n",
              "      <th>Very Good</th>\n",
              "      <th>...</th>\n",
              "      <th>Excellent</th>\n",
              "      <th>Fair</th>\n",
              "      <th>Good</th>\n",
              "      <th>Poor</th>\n",
              "      <th>Very Good</th>\n",
              "      <th>Excellent</th>\n",
              "      <th>Fair</th>\n",
              "      <th>Good</th>\n",
              "      <th>Poor</th>\n",
              "      <th>Very Good</th>\n",
              "    </tr>\n",
              "    <tr>\n",
              "      <th>Present Health</th>\n",
              "      <th></th>\n",
              "      <th></th>\n",
              "      <th></th>\n",
              "      <th></th>\n",
              "      <th></th>\n",
              "      <th></th>\n",
              "      <th></th>\n",
              "      <th></th>\n",
              "      <th></th>\n",
              "      <th></th>\n",
              "      <th></th>\n",
              "      <th></th>\n",
              "      <th></th>\n",
              "      <th></th>\n",
              "      <th></th>\n",
              "      <th></th>\n",
              "      <th></th>\n",
              "      <th></th>\n",
              "      <th></th>\n",
              "      <th></th>\n",
              "      <th></th>\n",
              "    </tr>\n",
              "  </thead>\n",
              "  <tbody>\n",
              "    <tr>\n",
              "      <th>Excellent</th>\n",
              "      <td>417</td>\n",
              "      <td>6</td>\n",
              "      <td>13</td>\n",
              "      <td>3</td>\n",
              "      <td>66</td>\n",
              "      <td>434</td>\n",
              "      <td>6</td>\n",
              "      <td>13</td>\n",
              "      <td>3</td>\n",
              "      <td>71</td>\n",
              "      <td>...</td>\n",
              "      <td>435</td>\n",
              "      <td>6</td>\n",
              "      <td>14</td>\n",
              "      <td>3</td>\n",
              "      <td>71</td>\n",
              "      <td>428</td>\n",
              "      <td>6</td>\n",
              "      <td>13</td>\n",
              "      <td>3</td>\n",
              "      <td>71</td>\n",
              "    </tr>\n",
              "    <tr>\n",
              "      <th>Fair</th>\n",
              "      <td>4</td>\n",
              "      <td>103</td>\n",
              "      <td>62</td>\n",
              "      <td>3</td>\n",
              "      <td>36</td>\n",
              "      <td>4</td>\n",
              "      <td>119</td>\n",
              "      <td>68</td>\n",
              "      <td>4</td>\n",
              "      <td>38</td>\n",
              "      <td>...</td>\n",
              "      <td>4</td>\n",
              "      <td>118</td>\n",
              "      <td>67</td>\n",
              "      <td>4</td>\n",
              "      <td>38</td>\n",
              "      <td>4</td>\n",
              "      <td>119</td>\n",
              "      <td>67</td>\n",
              "      <td>4</td>\n",
              "      <td>39</td>\n",
              "    </tr>\n",
              "    <tr>\n",
              "      <th>Good</th>\n",
              "      <td>54</td>\n",
              "      <td>34</td>\n",
              "      <td>492</td>\n",
              "      <td>6</td>\n",
              "      <td>154</td>\n",
              "      <td>57</td>\n",
              "      <td>37</td>\n",
              "      <td>526</td>\n",
              "      <td>6</td>\n",
              "      <td>163</td>\n",
              "      <td>...</td>\n",
              "      <td>57</td>\n",
              "      <td>36</td>\n",
              "      <td>523</td>\n",
              "      <td>6</td>\n",
              "      <td>163</td>\n",
              "      <td>55</td>\n",
              "      <td>37</td>\n",
              "      <td>516</td>\n",
              "      <td>6</td>\n",
              "      <td>159</td>\n",
              "    </tr>\n",
              "    <tr>\n",
              "      <th>Poor</th>\n",
              "      <td>3</td>\n",
              "      <td>14</td>\n",
              "      <td>6</td>\n",
              "      <td>12</td>\n",
              "      <td>2</td>\n",
              "      <td>3</td>\n",
              "      <td>15</td>\n",
              "      <td>7</td>\n",
              "      <td>13</td>\n",
              "      <td>2</td>\n",
              "      <td>...</td>\n",
              "      <td>3</td>\n",
              "      <td>14</td>\n",
              "      <td>7</td>\n",
              "      <td>13</td>\n",
              "      <td>2</td>\n",
              "      <td>3</td>\n",
              "      <td>15</td>\n",
              "      <td>7</td>\n",
              "      <td>12</td>\n",
              "      <td>1</td>\n",
              "    </tr>\n",
              "    <tr>\n",
              "      <th>Very Good</th>\n",
              "      <td>131</td>\n",
              "      <td>17</td>\n",
              "      <td>103</td>\n",
              "      <td>2</td>\n",
              "      <td>696</td>\n",
              "      <td>134</td>\n",
              "      <td>17</td>\n",
              "      <td>111</td>\n",
              "      <td>2</td>\n",
              "      <td>726</td>\n",
              "      <td>...</td>\n",
              "      <td>133</td>\n",
              "      <td>17</td>\n",
              "      <td>112</td>\n",
              "      <td>2</td>\n",
              "      <td>726</td>\n",
              "      <td>133</td>\n",
              "      <td>17</td>\n",
              "      <td>107</td>\n",
              "      <td>2</td>\n",
              "      <td>718</td>\n",
              "    </tr>\n",
              "  </tbody>\n",
              "</table>\n",
              "<p>5 rows × 350 columns</p>\n",
              "</div>\n",
              "    <div class=\"colab-df-buttons\">\n",
              "\n",
              "  <div class=\"colab-df-container\">\n",
              "    <button class=\"colab-df-convert\" onclick=\"convertToInteractive('df-a06b2150-535b-4eef-bb4b-bf6ba8b4ed77')\"\n",
              "            title=\"Convert this dataframe to an interactive table.\"\n",
              "            style=\"display:none;\">\n",
              "\n",
              "  <svg xmlns=\"http://www.w3.org/2000/svg\" height=\"24px\" viewBox=\"0 -960 960 960\">\n",
              "    <path d=\"M120-120v-720h720v720H120Zm60-500h600v-160H180v160Zm220 220h160v-160H400v160Zm0 220h160v-160H400v160ZM180-400h160v-160H180v160Zm440 0h160v-160H620v160ZM180-180h160v-160H180v160Zm440 0h160v-160H620v160Z\"/>\n",
              "  </svg>\n",
              "    </button>\n",
              "\n",
              "  <style>\n",
              "    .colab-df-container {\n",
              "      display:flex;\n",
              "      gap: 12px;\n",
              "    }\n",
              "\n",
              "    .colab-df-convert {\n",
              "      background-color: #E8F0FE;\n",
              "      border: none;\n",
              "      border-radius: 50%;\n",
              "      cursor: pointer;\n",
              "      display: none;\n",
              "      fill: #1967D2;\n",
              "      height: 32px;\n",
              "      padding: 0 0 0 0;\n",
              "      width: 32px;\n",
              "    }\n",
              "\n",
              "    .colab-df-convert:hover {\n",
              "      background-color: #E2EBFA;\n",
              "      box-shadow: 0px 1px 2px rgba(60, 64, 67, 0.3), 0px 1px 3px 1px rgba(60, 64, 67, 0.15);\n",
              "      fill: #174EA6;\n",
              "    }\n",
              "\n",
              "    .colab-df-buttons div {\n",
              "      margin-bottom: 4px;\n",
              "    }\n",
              "\n",
              "    [theme=dark] .colab-df-convert {\n",
              "      background-color: #3B4455;\n",
              "      fill: #D2E3FC;\n",
              "    }\n",
              "\n",
              "    [theme=dark] .colab-df-convert:hover {\n",
              "      background-color: #434B5C;\n",
              "      box-shadow: 0px 1px 3px 1px rgba(0, 0, 0, 0.15);\n",
              "      filter: drop-shadow(0px 1px 2px rgba(0, 0, 0, 0.3));\n",
              "      fill: #FFFFFF;\n",
              "    }\n",
              "  </style>\n",
              "\n",
              "    <script>\n",
              "      const buttonEl =\n",
              "        document.querySelector('#df-a06b2150-535b-4eef-bb4b-bf6ba8b4ed77 button.colab-df-convert');\n",
              "      buttonEl.style.display =\n",
              "        google.colab.kernel.accessAllowed ? 'block' : 'none';\n",
              "\n",
              "      async function convertToInteractive(key) {\n",
              "        const element = document.querySelector('#df-a06b2150-535b-4eef-bb4b-bf6ba8b4ed77');\n",
              "        const dataTable =\n",
              "          await google.colab.kernel.invokeFunction('convertToInteractive',\n",
              "                                                    [key], {});\n",
              "        if (!dataTable) return;\n",
              "\n",
              "        const docLinkHtml = 'Like what you see? Visit the ' +\n",
              "          '<a target=\"_blank\" href=https://colab.research.google.com/notebooks/data_table.ipynb>data table notebook</a>'\n",
              "          + ' to learn more about interactive tables.';\n",
              "        element.innerHTML = '';\n",
              "        dataTable['output_type'] = 'display_data';\n",
              "        await google.colab.output.renderOutput(dataTable, element);\n",
              "        const docLink = document.createElement('div');\n",
              "        docLink.innerHTML = docLinkHtml;\n",
              "        element.appendChild(docLink);\n",
              "      }\n",
              "    </script>\n",
              "  </div>\n",
              "\n",
              "\n",
              "<div id=\"df-f22e3ff1-dbb2-4dab-813c-c051b9728ef5\">\n",
              "  <button class=\"colab-df-quickchart\" onclick=\"quickchart('df-f22e3ff1-dbb2-4dab-813c-c051b9728ef5')\"\n",
              "            title=\"Suggest charts\"\n",
              "            style=\"display:none;\">\n",
              "\n",
              "<svg xmlns=\"http://www.w3.org/2000/svg\" height=\"24px\"viewBox=\"0 0 24 24\"\n",
              "     width=\"24px\">\n",
              "    <g>\n",
              "        <path d=\"M19 3H5c-1.1 0-2 .9-2 2v14c0 1.1.9 2 2 2h14c1.1 0 2-.9 2-2V5c0-1.1-.9-2-2-2zM9 17H7v-7h2v7zm4 0h-2V7h2v10zm4 0h-2v-4h2v4z\"/>\n",
              "    </g>\n",
              "</svg>\n",
              "  </button>\n",
              "\n",
              "<style>\n",
              "  .colab-df-quickchart {\n",
              "      --bg-color: #E8F0FE;\n",
              "      --fill-color: #1967D2;\n",
              "      --hover-bg-color: #E2EBFA;\n",
              "      --hover-fill-color: #174EA6;\n",
              "      --disabled-fill-color: #AAA;\n",
              "      --disabled-bg-color: #DDD;\n",
              "  }\n",
              "\n",
              "  [theme=dark] .colab-df-quickchart {\n",
              "      --bg-color: #3B4455;\n",
              "      --fill-color: #D2E3FC;\n",
              "      --hover-bg-color: #434B5C;\n",
              "      --hover-fill-color: #FFFFFF;\n",
              "      --disabled-bg-color: #3B4455;\n",
              "      --disabled-fill-color: #666;\n",
              "  }\n",
              "\n",
              "  .colab-df-quickchart {\n",
              "    background-color: var(--bg-color);\n",
              "    border: none;\n",
              "    border-radius: 50%;\n",
              "    cursor: pointer;\n",
              "    display: none;\n",
              "    fill: var(--fill-color);\n",
              "    height: 32px;\n",
              "    padding: 0;\n",
              "    width: 32px;\n",
              "  }\n",
              "\n",
              "  .colab-df-quickchart:hover {\n",
              "    background-color: var(--hover-bg-color);\n",
              "    box-shadow: 0 1px 2px rgba(60, 64, 67, 0.3), 0 1px 3px 1px rgba(60, 64, 67, 0.15);\n",
              "    fill: var(--button-hover-fill-color);\n",
              "  }\n",
              "\n",
              "  .colab-df-quickchart-complete:disabled,\n",
              "  .colab-df-quickchart-complete:disabled:hover {\n",
              "    background-color: var(--disabled-bg-color);\n",
              "    fill: var(--disabled-fill-color);\n",
              "    box-shadow: none;\n",
              "  }\n",
              "\n",
              "  .colab-df-spinner {\n",
              "    border: 2px solid var(--fill-color);\n",
              "    border-color: transparent;\n",
              "    border-bottom-color: var(--fill-color);\n",
              "    animation:\n",
              "      spin 1s steps(1) infinite;\n",
              "  }\n",
              "\n",
              "  @keyframes spin {\n",
              "    0% {\n",
              "      border-color: transparent;\n",
              "      border-bottom-color: var(--fill-color);\n",
              "      border-left-color: var(--fill-color);\n",
              "    }\n",
              "    20% {\n",
              "      border-color: transparent;\n",
              "      border-left-color: var(--fill-color);\n",
              "      border-top-color: var(--fill-color);\n",
              "    }\n",
              "    30% {\n",
              "      border-color: transparent;\n",
              "      border-left-color: var(--fill-color);\n",
              "      border-top-color: var(--fill-color);\n",
              "      border-right-color: var(--fill-color);\n",
              "    }\n",
              "    40% {\n",
              "      border-color: transparent;\n",
              "      border-right-color: var(--fill-color);\n",
              "      border-top-color: var(--fill-color);\n",
              "    }\n",
              "    60% {\n",
              "      border-color: transparent;\n",
              "      border-right-color: var(--fill-color);\n",
              "    }\n",
              "    80% {\n",
              "      border-color: transparent;\n",
              "      border-right-color: var(--fill-color);\n",
              "      border-bottom-color: var(--fill-color);\n",
              "    }\n",
              "    90% {\n",
              "      border-color: transparent;\n",
              "      border-bottom-color: var(--fill-color);\n",
              "    }\n",
              "  }\n",
              "</style>\n",
              "\n",
              "  <script>\n",
              "    async function quickchart(key) {\n",
              "      const quickchartButtonEl =\n",
              "        document.querySelector('#' + key + ' button');\n",
              "      quickchartButtonEl.disabled = true;  // To prevent multiple clicks.\n",
              "      quickchartButtonEl.classList.add('colab-df-spinner');\n",
              "      try {\n",
              "        const charts = await google.colab.kernel.invokeFunction(\n",
              "            'suggestCharts', [key], {});\n",
              "      } catch (error) {\n",
              "        console.error('Error during call to suggestCharts:', error);\n",
              "      }\n",
              "      quickchartButtonEl.classList.remove('colab-df-spinner');\n",
              "      quickchartButtonEl.classList.add('colab-df-quickchart-complete');\n",
              "    }\n",
              "    (() => {\n",
              "      let quickchartButtonEl =\n",
              "        document.querySelector('#df-f22e3ff1-dbb2-4dab-813c-c051b9728ef5 button');\n",
              "      quickchartButtonEl.style.display =\n",
              "        google.colab.kernel.accessAllowed ? 'block' : 'none';\n",
              "    })();\n",
              "  </script>\n",
              "</div>\n",
              "\n",
              "  <div id=\"id_e7e761e8-ffbb-483a-8c4c-3a02de8c5bc2\">\n",
              "    <style>\n",
              "      .colab-df-generate {\n",
              "        background-color: #E8F0FE;\n",
              "        border: none;\n",
              "        border-radius: 50%;\n",
              "        cursor: pointer;\n",
              "        display: none;\n",
              "        fill: #1967D2;\n",
              "        height: 32px;\n",
              "        padding: 0 0 0 0;\n",
              "        width: 32px;\n",
              "      }\n",
              "\n",
              "      .colab-df-generate:hover {\n",
              "        background-color: #E2EBFA;\n",
              "        box-shadow: 0px 1px 2px rgba(60, 64, 67, 0.3), 0px 1px 3px 1px rgba(60, 64, 67, 0.15);\n",
              "        fill: #174EA6;\n",
              "      }\n",
              "\n",
              "      [theme=dark] .colab-df-generate {\n",
              "        background-color: #3B4455;\n",
              "        fill: #D2E3FC;\n",
              "      }\n",
              "\n",
              "      [theme=dark] .colab-df-generate:hover {\n",
              "        background-color: #434B5C;\n",
              "        box-shadow: 0px 1px 3px 1px rgba(0, 0, 0, 0.15);\n",
              "        filter: drop-shadow(0px 1px 2px rgba(0, 0, 0, 0.3));\n",
              "        fill: #FFFFFF;\n",
              "      }\n",
              "    </style>\n",
              "    <button class=\"colab-df-generate\" onclick=\"generateWithVariable('pivot_table')\"\n",
              "            title=\"Generate code using this dataframe.\"\n",
              "            style=\"display:none;\">\n",
              "\n",
              "  <svg xmlns=\"http://www.w3.org/2000/svg\" height=\"24px\"viewBox=\"0 0 24 24\"\n",
              "       width=\"24px\">\n",
              "    <path d=\"M7,19H8.4L18.45,9,17,7.55,7,17.6ZM5,21V16.75L18.45,3.32a2,2,0,0,1,2.83,0l1.4,1.43a1.91,1.91,0,0,1,.58,1.4,1.91,1.91,0,0,1-.58,1.4L9.25,21ZM18.45,9,17,7.55Zm-12,3A5.31,5.31,0,0,0,4.9,8.1,5.31,5.31,0,0,0,1,6.5,5.31,5.31,0,0,0,4.9,4.9,5.31,5.31,0,0,0,6.5,1,5.31,5.31,0,0,0,8.1,4.9,5.31,5.31,0,0,0,12,6.5,5.46,5.46,0,0,0,6.5,12Z\"/>\n",
              "  </svg>\n",
              "    </button>\n",
              "    <script>\n",
              "      (() => {\n",
              "      const buttonEl =\n",
              "        document.querySelector('#id_e7e761e8-ffbb-483a-8c4c-3a02de8c5bc2 button.colab-df-generate');\n",
              "      buttonEl.style.display =\n",
              "        google.colab.kernel.accessAllowed ? 'block' : 'none';\n",
              "\n",
              "      buttonEl.onclick = () => {\n",
              "        google.colab.notebook.generateWithVariable('pivot_table');\n",
              "      }\n",
              "      })();\n",
              "    </script>\n",
              "  </div>\n",
              "\n",
              "    </div>\n",
              "  </div>\n"
            ],
            "application/vnd.google.colaboratory.intrinsic+json": {
              "type": "dataframe",
              "variable_name": "pivot_table"
            }
          },
          "metadata": {},
          "execution_count": 109
        }
      ],
      "source": [
        "# Create a pivot table for 'Present Health' and 'Present Mental Health'\n",
        "pivot_table = pd.pivot_table(aaqol_data, index='Present Health', columns='Present Mental Health', aggfunc='count')\n",
        "\n",
        "# Display the pivot table\n",
        "pivot_table\n"
      ]
    },
    {
      "cell_type": "markdown",
      "id": "7d1484a0",
      "metadata": {
        "id": "7d1484a0"
      },
      "source": [
        "Make a graph to check the distribution of 'Duration of Residency'. What does it tell you?"
      ]
    },
    {
      "cell_type": "code",
      "execution_count": null,
      "id": "4e9ba12d",
      "metadata": {
        "colab": {
          "base_uri": "https://localhost:8080/",
          "height": 781
        },
        "id": "4e9ba12d",
        "outputId": "2bea9d9e-6d86-4a53-dc9e-7def2ec4dbb7"
      },
      "outputs": [
        {
          "output_type": "execute_result",
          "data": {
            "text/plain": [
              "<Figure size 1000x600 with 0 Axes>"
            ]
          },
          "metadata": {},
          "execution_count": 110
        },
        {
          "output_type": "execute_result",
          "data": {
            "text/plain": [
              "(array([640., 377., 200., 222., 198., 259., 173., 139., 139.,  67.,  98.,\n",
              "         24.,  18.,   5.,   4.,   1.,   2.,   1.,   0.,   1.]),\n",
              " array([ 0.25  ,  4.1375,  8.025 , 11.9125, 15.8   , 19.6875, 23.575 ,\n",
              "        27.4625, 31.35  , 35.2375, 39.125 , 43.0125, 46.9   , 50.7875,\n",
              "        54.675 , 58.5625, 62.45  , 66.3375, 70.225 , 74.1125, 78.    ]),\n",
              " <BarContainer object of 20 artists>)"
            ]
          },
          "metadata": {},
          "execution_count": 110
        },
        {
          "output_type": "execute_result",
          "data": {
            "text/plain": [
              "Text(0.5, 1.0, 'Distribution of Duration of Residency')"
            ]
          },
          "metadata": {},
          "execution_count": 110
        },
        {
          "output_type": "execute_result",
          "data": {
            "text/plain": [
              "Text(0.5, 0, 'Duration of Residency (Years)')"
            ]
          },
          "metadata": {},
          "execution_count": 110
        },
        {
          "output_type": "execute_result",
          "data": {
            "text/plain": [
              "Text(0, 0.5, 'Frequency')"
            ]
          },
          "metadata": {},
          "execution_count": 110
        },
        {
          "output_type": "display_data",
          "data": {
            "text/plain": [
              "<Figure size 1000x600 with 1 Axes>"
            ],
            "image/png": "[encoded data removed]"
          },
          "metadata": {}
        }
      ],
      "source": [
        "# Histogram for 'Duration of Residency'\n",
        "plt.figure(figsize=(10, 6))\n",
        "plt.hist(aaqol_data['Duration of Residency'], bins=20, color='darkblue', edgecolor='black', alpha=0.7)\n",
        "plt.title('Distribution of Duration of Residency', fontsize=16)\n",
        "plt.xlabel('Duration of Residency (Years)', fontsize=12)\n",
        "plt.ylabel('Frequency', fontsize=12)\n",
        "plt.tight_layout()\n",
        "plt.show()\n"
      ]
    },
    {
      "cell_type": "markdown",
      "source": [
        "There seem to fewer people with more than 10years of residency. This suggests that majority of the population are relatively new"
      ],
      "metadata": {
        "id": "kUR2yqRb69z4"
      },
      "id": "kUR2yqRb69z4"
    },
    {
      "cell_type": "markdown",
      "id": "8e2392f3",
      "metadata": {
        "id": "8e2392f3"
      },
      "source": [
        "Make a graph to explore the relationship between \"Duration of Residency' and 'Quality of life'. This time treat 'Quality of Life' as a categorical variable. Think about what graph is more appropriate. What do you observe?"
      ]
    },
    {
      "cell_type": "code",
      "execution_count": null,
      "id": "ba507b80",
      "metadata": {
        "colab": {
          "base_uri": "https://localhost:8080/",
          "height": 781
        },
        "id": "ba507b80",
        "outputId": "e743f6e0-4350-4f17-e633-5be658953860"
      },
      "outputs": [
        {
          "output_type": "execute_result",
          "data": {
            "text/plain": [
              "<Figure size 1000x600 with 0 Axes>"
            ]
          },
          "metadata": {},
          "execution_count": 111
        },
        {
          "output_type": "stream",
          "name": "stderr",
          "text": [
            "<ipython-input-111-ef2cdf37ceb7>:3: FutureWarning: \n",
            "\n",
            "Passing `palette` without assigning `hue` is deprecated and will be removed in v0.14.0. Assign the `x` variable to `hue` and set `legend=False` for the same effect.\n",
            "\n",
            "  sns.boxplot(x=aaqol_data['Quality of Life'], y=aaqol_data['Duration of Residency'], palette=\"Set2\")\n"
          ]
        },
        {
          "output_type": "execute_result",
          "data": {
            "text/plain": [
              "<Axes: xlabel='Quality of Life', ylabel='Duration of Residency'>"
            ]
          },
          "metadata": {},
          "execution_count": 111
        },
        {
          "output_type": "execute_result",
          "data": {
            "text/plain": [
              "Text(0.5, 1.0, 'Duration of Residency vs Quality of Life')"
            ]
          },
          "metadata": {},
          "execution_count": 111
        },
        {
          "output_type": "execute_result",
          "data": {
            "text/plain": [
              "Text(0.5, 0, 'Quality of Life')"
            ]
          },
          "metadata": {},
          "execution_count": 111
        },
        {
          "output_type": "execute_result",
          "data": {
            "text/plain": [
              "Text(0, 0.5, 'Duration of Residency (Years)')"
            ]
          },
          "metadata": {},
          "execution_count": 111
        },
        {
          "output_type": "display_data",
          "data": {
            "text/plain": [
              "<Figure size 1000x600 with 1 Axes>"
            ],
            "image/png": "[encoded data removed]"
          },
          "metadata": {}
        }
      ],
      "source": [
        "# Boxplot for 'Duration of Residency' vs 'Quality of Life'\n",
        "plt.figure(figsize=(10, 6))\n",
        "sns.boxplot(x=aaqol_data['Quality of Life'], y=aaqol_data['Duration of Residency'], palette=\"Set2\")\n",
        "plt.title('Duration of Residency vs Quality of Life', fontsize=16)\n",
        "plt.xlabel('Quality of Life', fontsize=12)\n",
        "plt.ylabel('Duration of Residency (Years)', fontsize=12)\n",
        "plt.tight_layout()\n",
        "plt.show()\n"
      ]
    },
    {
      "cell_type": "markdown",
      "source": [
        "The graph seems to be increasing somewhat from left to right. It might indicate that the people who have higher duration of residency is expected to have better quality of life."
      ],
      "metadata": {
        "id": "29AVJ2TK8TxJ"
      },
      "id": "29AVJ2TK8TxJ"
    },
    {
      "cell_type": "markdown",
      "id": "83b959a6",
      "metadata": {
        "id": "83b959a6"
      },
      "source": [
        "Next we examine the support network variables.<br> They are 'Family', 'Close Friend', 'Acquaintances',\n",
        "       'Heal Professionals', 'Mobile Apps', 'Email', 'Social Networks',\n",
        "       'Online Communities', 'Health Website', 'Other'. Turn all 'Yes' to 1 and 'No' to 0.<br>\n",
        "Then create a new variable 'Support' that sums the all variables. For instance, if a person answers 'Yes' to 'Family' and 'Close Friend' and 'No' to all others. The value of 'support' should be 2."
      ]
    },
    {
      "cell_type": "code",
      "execution_count": null,
      "id": "6ec5426d",
      "metadata": {
        "colab": {
          "base_uri": "https://localhost:8080/"
        },
        "id": "6ec5426d",
        "outputId": "e900401f-3061-41bb-d7a4-9fca62677efb"
      },
      "outputs": [
        {
          "output_type": "stream",
          "name": "stdout",
          "text": [
            "   Family  Close Friend  Acquaintances  Heal Professionals  Mobile Apps  \\\n",
            "0       0             0              0                   0            0   \n",
            "1       0             0              0                   0            0   \n",
            "2       1             0              0                   1            0   \n",
            "3       0             0              0                   1            0   \n",
            "4       0             0              0                   0            0   \n",
            "\n",
            "   Email  Social Networks  Online Communities  Health Website  Other  Support  \n",
            "0      0                0                   0               0      0        0  \n",
            "1      0                0                   0               0      0        0  \n",
            "2      0                0                   0               1      0        3  \n",
            "3      0                0                   0               1      0        2  \n",
            "4      0                0                   0               0      0        0  \n"
          ]
        },
        {
          "output_type": "stream",
          "name": "stderr",
          "text": [
            "<ipython-input-112-41553606f342>:12: FutureWarning: DataFrame.applymap has been deprecated. Use DataFrame.map instead.\n",
            "  aaqol_data[support_columns] = aaqol_data[support_columns].applymap(lambda x: x.strip().lower() if isinstance(x, str) else x)\n",
            "<ipython-input-112-41553606f342>:15: FutureWarning: DataFrame.applymap has been deprecated. Use DataFrame.map instead.\n",
            "  aaqol_data[support_columns] = aaqol_data[support_columns].applymap(lambda x: 1 if x == 'yes' else 0)\n"
          ]
        }
      ],
      "source": [
        "import pandas as pd\n",
        "\n",
        "# Assuming the data is already loaded into aaqol_data\n",
        "# Define the support network columns\n",
        "support_columns = [\n",
        "    'Family', 'Close Friend', 'Acquaintances', 'Heal Professionals',\n",
        "    'Mobile Apps', 'Email', 'Social Networks', 'Online Communities',\n",
        "    'Health Website', 'Other'\n",
        "]\n",
        "\n",
        "# Clean the 'Yes' and 'No' values by stripping extra spaces and converting them to consistent case\n",
        "aaqol_data[support_columns] = aaqol_data[support_columns].applymap(lambda x: x.strip().lower() if isinstance(x, str) else x)\n",
        "\n",
        "# Convert 'Yes' to 1 and 'No' to 0\n",
        "aaqol_data[support_columns] = aaqol_data[support_columns].applymap(lambda x: 1 if x == 'yes' else 0)\n",
        "\n",
        "# Create the 'Support' column by summing all the support network columns\n",
        "aaqol_data['Support'] = aaqol_data[support_columns].sum(axis=1)\n",
        "\n",
        "# Check the result\n",
        "print(aaqol_data[['Family', 'Close Friend', 'Acquaintances', 'Heal Professionals', 'Mobile Apps', 'Email',\n",
        "                  'Social Networks', 'Online Communities', 'Health Website', 'Other', 'Support']].head())\n"
      ]
    },
    {
      "cell_type": "markdown",
      "id": "f2738ac1",
      "metadata": {
        "id": "f2738ac1"
      },
      "source": [
        "Then you can make a graph to explore the relationship between 'Support' and 'Quality of Life'. This time treat 'Quality of Life' as a number."
      ]
    },
    {
      "cell_type": "code",
      "execution_count": null,
      "id": "1f73fe96",
      "metadata": {
        "colab": {
          "base_uri": "https://localhost:8080/",
          "height": 657
        },
        "id": "1f73fe96",
        "outputId": "78a3b838-c777-4ebe-9560-efcc1ec2e14a"
      },
      "outputs": [
        {
          "output_type": "execute_result",
          "data": {
            "text/plain": [
              "<Figure size 1000x600 with 0 Axes>"
            ]
          },
          "metadata": {},
          "execution_count": 113
        },
        {
          "output_type": "execute_result",
          "data": {
            "text/plain": [
              "<matplotlib.collections.PathCollection at 0x7ab4f7daa110>"
            ]
          },
          "metadata": {},
          "execution_count": 113
        },
        {
          "output_type": "execute_result",
          "data": {
            "text/plain": [
              "Text(0.5, 1.0, 'Relationship Between Support and Quality of Life')"
            ]
          },
          "metadata": {},
          "execution_count": 113
        },
        {
          "output_type": "execute_result",
          "data": {
            "text/plain": [
              "Text(0.5, 0, 'Support Score')"
            ]
          },
          "metadata": {},
          "execution_count": 113
        },
        {
          "output_type": "execute_result",
          "data": {
            "text/plain": [
              "Text(0, 0.5, 'Quality of Life Score')"
            ]
          },
          "metadata": {},
          "execution_count": 113
        },
        {
          "output_type": "display_data",
          "data": {
            "text/plain": [
              "<Figure size 1000x600 with 1 Axes>"
            ],
            "image/png": "[encoded data removed]"
          },
          "metadata": {}
        }
      ],
      "source": [
        "import matplotlib.pyplot as plt\n",
        "\n",
        "# Scatter plot for 'Support' vs 'Quality of Life'\n",
        "plt.figure(figsize=(10, 6))\n",
        "plt.scatter(aaqol_data['Support'], aaqol_data['Quality of Life'], alpha=0.5, color='green')\n",
        "plt.title('Relationship Between Support and Quality of Life', fontsize=16)\n",
        "plt.xlabel('Support Score', fontsize=12)\n",
        "plt.ylabel('Quality of Life Score', fontsize=12)\n",
        "plt.grid(True)\n",
        "plt.show()\n"
      ]
    },
    {
      "cell_type": "markdown",
      "id": "24fc9bb2",
      "metadata": {
        "id": "24fc9bb2"
      },
      "source": [
        "Now we prepare the data for analysis. First let's take care of the variable with most missing values, 'occupation'."
      ]
    },
    {
      "cell_type": "markdown",
      "id": "caf69049",
      "metadata": {
        "id": "caf69049"
      },
      "source": [
        "If you examine carefully, you will find that we can correctly fill in the missing values because the information can be referred from other variables. <br>\n",
        "If 'Student' is with value 'Student', you should fill in 'Occupation' with 'Student'. Similarly for 'Homeowner' and 'Retired'. <br>\n",
        "Then check 'Full Time Employment' and 'Part Time Employment'. If both them are 0, you can fill in 'Occupation' with 'None'."
      ]
    },
    {
      "cell_type": "code",
      "execution_count": null,
      "id": "96dba40c",
      "metadata": {
        "scrolled": true,
        "id": "96dba40c",
        "colab": {
          "base_uri": "https://localhost:8080/"
        },
        "outputId": "094dbcee-9005-464b-b818-7abfde20924d"
      },
      "outputs": [
        {
          "output_type": "execute_result",
          "data": {
            "text/plain": [
              "328"
            ]
          },
          "metadata": {},
          "execution_count": 114
        }
      ],
      "source": [
        "# Fill missing 'Occupation' based on other columns\n",
        "aaqol_data['Occupation'] = aaqol_data.apply(\n",
        "    lambda row: 'Student' if pd.isna(row['Occupation']) and row['Student'] == 'Student' else row['Occupation'], axis=1\n",
        ")\n",
        "aaqol_data['Occupation'] = aaqol_data.apply(\n",
        "    lambda row: 'Homemaker' if pd.isna(row['Occupation']) and row['Homemaker'] == 'Homeowner' else row['Occupation'], axis=1\n",
        ")\n",
        "aaqol_data['Occupation'] = aaqol_data.apply(\n",
        "    lambda row: 'Retired' if pd.isna(row['Occupation']) and row['Retired'] == 'Retired' else row['Occupation'], axis=1\n",
        ")\n",
        "aaqol_data['Occupation'] = aaqol_data.apply(\n",
        "    lambda row: 'None' if pd.isna(row['Occupation']) and row['Full Time Employment'] == 0 and row['Part Time Employment'] == 0 else row['Occupation'], axis=1\n",
        ")\n",
        "\n",
        "# Verify if missing values in 'Occupation' are filled\n",
        "aaqol_data['Occupation'].isna().sum()\n"
      ]
    },
    {
      "cell_type": "markdown",
      "id": "6ade1321",
      "metadata": {
        "id": "6ade1321"
      },
      "source": [
        "Once you are done with the imputation above. Check the value counts for the categories. There is an abnormal value 0. Remove the observation."
      ]
    },
    {
      "cell_type": "code",
      "execution_count": null,
      "id": "4ad90ae1",
      "metadata": {
        "id": "4ad90ae1",
        "colab": {
          "base_uri": "https://localhost:8080/"
        },
        "outputId": "ee32789d-2692-4799-ccd6-301f76e36b02"
      },
      "outputs": [
        {
          "output_type": "stream",
          "name": "stdout",
          "text": [
            "Occupation\n",
            "Professional                       698\n",
            "Other                              304\n",
            "Student                            236\n",
            "Retired                            231\n",
            "Manager, executive, or official    191\n",
            "Service worker                     190\n",
            "Clerical, office, sales            143\n",
            "Business owner                     127\n",
            "Skilled trades                      83\n",
            "Semi-skilled                        77\n",
            "0                                    1\n",
            "Name: count, dtype: int64\n",
            "Occupation\n",
            "Professional                       698\n",
            "Other                              304\n",
            "Student                            236\n",
            "Retired                            231\n",
            "Manager, executive, or official    191\n",
            "Service worker                     190\n",
            "Clerical, office, sales            143\n",
            "Business owner                     127\n",
            "Skilled trades                      83\n",
            "Semi-skilled                        77\n",
            "Name: count, dtype: int64\n"
          ]
        }
      ],
      "source": [
        "# Check the value counts for the 'Occupation' column\n",
        "occupation_counts = aaqol_data['Occupation'].value_counts()\n",
        "\n",
        "# Display the value counts\n",
        "print(occupation_counts)\n",
        "\n",
        "aaqol_data['Occupation'] = aaqol_data['Occupation'].str.strip()\n",
        "\n",
        "# Remove rows where 'Occupation' is '0' (abnormal value) using drop\n",
        "aaqol_data = aaqol_data[aaqol_data['Occupation'] != '0']\n",
        "\n",
        "# Check the value counts again after removal\n",
        "occupation_counts_cleaned = aaqol_data['Occupation'].value_counts()\n",
        "\n",
        "# Display the cleaned value counts\n",
        "print(occupation_counts_cleaned)\n"
      ]
    },
    {
      "cell_type": "markdown",
      "id": "941f1ffd",
      "metadata": {
        "id": "941f1ffd"
      },
      "source": [
        "You can try similar inference for the 'Income' variable. You can try. One step of imputation is enough. You do not need to be as thorough as I do with 'Occupation'."
      ]
    },
    {
      "cell_type": "code",
      "execution_count": null,
      "id": "f85387f3",
      "metadata": {
        "id": "f85387f3",
        "colab": {
          "base_uri": "https://localhost:8080/"
        },
        "outputId": "05c38814-27d9-452b-8ed9-f12eeac172d5"
      },
      "outputs": [
        {
          "output_type": "stream",
          "name": "stdout",
          "text": [
            "Missing values in 'Income' after imputation: 0\n",
            "Income\n",
            "75000.0    992\n",
            "55000.0    381\n",
            "5000.0     254\n",
            "35000.0    207\n",
            "15000.0    205\n",
            "25000.0    198\n",
            "65000.0    190\n",
            "45000.0    181\n",
            "Name: count, dtype: int64\n"
          ]
        },
        {
          "output_type": "stream",
          "name": "stderr",
          "text": [
            "<ipython-input-116-c3637654ad38>:31: FutureWarning: A value is trying to be set on a copy of a DataFrame or Series through chained assignment using an inplace method.\n",
            "The behavior will change in pandas 3.0. This inplace method will never work because the intermediate object on which we are setting values always behaves as a copy.\n",
            "\n",
            "For example, when doing 'df[col].method(value, inplace=True)', try using 'df.method({col: value}, inplace=True)' or df[col] = df[col].method(value) instead, to perform the operation inplace on the original object.\n",
            "\n",
            "\n",
            "  aaqol_data['Income'].fillna(income_median, inplace=True)\n"
          ]
        }
      ],
      "source": [
        "# Define a function to map income ranges to average numeric values\n",
        "def map_income_to_numeric(income):\n",
        "    if pd.isna(income):\n",
        "        return np.nan\n",
        "    if income == '$0 - $9,999':\n",
        "        return 5000\n",
        "    elif income == '$10,000 - $19,999':\n",
        "        return 15000\n",
        "    elif income == '$20,000 - $29,999':\n",
        "        return 25000\n",
        "    elif income == '$30,000 - $39,999':\n",
        "        return 35000\n",
        "    elif income == '$40,000 - $49,999':\n",
        "        return 45000\n",
        "    elif income == '$50,000 - $59,999':\n",
        "        return 55000\n",
        "    elif income == '$60,000 - $69,999':\n",
        "        return 65000\n",
        "    elif income == '$70,000 and over':\n",
        "        return 75000  # or higher, depending on the context\n",
        "    else:\n",
        "        return np.nan  # In case there's an unknown value\n",
        "\n",
        "# Apply the function to convert income categories to numeric values\n",
        "aaqol_data['Income'] = aaqol_data['Income'].apply(map_income_to_numeric)\n",
        "\n",
        "# Now fill missing values in 'Income' with the median value\n",
        "income_median = aaqol_data['Income'].median()\n",
        "\n",
        "# Replace NaN values with the median income value\n",
        "aaqol_data['Income'].fillna(income_median, inplace=True)\n",
        "\n",
        "# Check if any missing values remain in 'Income'\n",
        "missing_income = aaqol_data['Income'].isnull().sum()\n",
        "\n",
        "# Display the value counts of 'Income' after imputation\n",
        "income_counts = aaqol_data['Income'].value_counts()\n",
        "\n",
        "# Show the result\n",
        "print(f\"Missing values in 'Income' after imputation: {missing_income}\")\n",
        "print(income_counts)\n"
      ]
    },
    {
      "cell_type": "markdown",
      "id": "b2c67977",
      "metadata": {
        "id": "b2c67977"
      },
      "source": [
        "There is much more to be done to clean the data, but we will stop here. Next let's move on to analysis."
      ]
    },
    {
      "cell_type": "markdown",
      "id": "b650eedb",
      "metadata": {
        "id": "b650eedb"
      },
      "source": [
        "Select at least 8 predictor variables to predict the target variable 'Quality of Life'. Make sure you include 'Occupation' and 'Support' and at least one variable from each aspect (demographics, health, belonging, support network, etc.). Save them to a new data frame."
      ]
    },
    {
      "cell_type": "code",
      "execution_count": null,
      "id": "65ca8064",
      "metadata": {
        "scrolled": true,
        "id": "65ca8064",
        "colab": {
          "base_uri": "https://localhost:8080/",
          "height": 206
        },
        "outputId": "9b7e4078-1500-4d97-ec9a-495e55269782"
      },
      "outputs": [
        {
          "output_type": "execute_result",
          "data": {
            "text/plain": [
              "                Occupation  Support   Age Present Health  \\\n",
              "0                      NaN        0   NaN            NaN   \n",
              "1  Clerical, office, sales        0  60.0            NaN   \n",
              "2                      NaN        3  23.0      Very Good   \n",
              "3                  Retired        2  73.0           Good   \n",
              "4                    Other        0  29.0           Good   \n",
              "\n",
              "  Present Mental Health  Social Networks   Income  Duration of Residency  \\\n",
              "0                   NaN                0  55000.0                    NaN   \n",
              "1                   NaN                0  35000.0                    0.5   \n",
              "2                  Good                0   5000.0                   11.0   \n",
              "3             Very Good                0  55000.0                   50.0   \n",
              "4                  Good                0  55000.0                    7.0   \n",
              "\n",
              "   Quality of Life  \n",
              "0              NaN  \n",
              "1              NaN  \n",
              "2              8.0  \n",
              "3              NaN  \n",
              "4              NaN  "
            ],
            "text/html": [
              "\n",
              "  <div id=\"df-546404f2-fedd-45b8-9ae5-1a3311273672\" class=\"colab-df-container\">\n",
              "    <div>\n",
              "<style scoped>\n",
              "    .dataframe tbody tr th:only-of-type {\n",
              "        vertical-align: middle;\n",
              "    }\n",
              "\n",
              "    .dataframe tbody tr th {\n",
              "        vertical-align: top;\n",
              "    }\n",
              "\n",
              "    .dataframe thead th {\n",
              "        text-align: right;\n",
              "    }\n",
              "</style>\n",
              "<table border=\"1\" class=\"dataframe\">\n",
              "  <thead>\n",
              "    <tr style=\"text-align: right;\">\n",
              "      <th></th>\n",
              "      <th>Occupation</th>\n",
              "      <th>Support</th>\n",
              "      <th>Age</th>\n",
              "      <th>Present Health</th>\n",
              "      <th>Present Mental Health</th>\n",
              "      <th>Social Networks</th>\n",
              "      <th>Income</th>\n",
              "      <th>Duration of Residency</th>\n",
              "      <th>Quality of Life</th>\n",
              "    </tr>\n",
              "  </thead>\n",
              "  <tbody>\n",
              "    <tr>\n",
              "      <th>0</th>\n",
              "      <td>NaN</td>\n",
              "      <td>0</td>\n",
              "      <td>NaN</td>\n",
              "      <td>NaN</td>\n",
              "      <td>NaN</td>\n",
              "      <td>0</td>\n",
              "      <td>55000.0</td>\n",
              "      <td>NaN</td>\n",
              "      <td>NaN</td>\n",
              "    </tr>\n",
              "    <tr>\n",
              "      <th>1</th>\n",
              "      <td>Clerical, office, sales</td>\n",
              "      <td>0</td>\n",
              "      <td>60.0</td>\n",
              "      <td>NaN</td>\n",
              "      <td>NaN</td>\n",
              "      <td>0</td>\n",
              "      <td>35000.0</td>\n",
              "      <td>0.5</td>\n",
              "      <td>NaN</td>\n",
              "    </tr>\n",
              "    <tr>\n",
              "      <th>2</th>\n",
              "      <td>NaN</td>\n",
              "      <td>3</td>\n",
              "      <td>23.0</td>\n",
              "      <td>Very Good</td>\n",
              "      <td>Good</td>\n",
              "      <td>0</td>\n",
              "      <td>5000.0</td>\n",
              "      <td>11.0</td>\n",
              "      <td>8.0</td>\n",
              "    </tr>\n",
              "    <tr>\n",
              "      <th>3</th>\n",
              "      <td>Retired</td>\n",
              "      <td>2</td>\n",
              "      <td>73.0</td>\n",
              "      <td>Good</td>\n",
              "      <td>Very Good</td>\n",
              "      <td>0</td>\n",
              "      <td>55000.0</td>\n",
              "      <td>50.0</td>\n",
              "      <td>NaN</td>\n",
              "    </tr>\n",
              "    <tr>\n",
              "      <th>4</th>\n",
              "      <td>Other</td>\n",
              "      <td>0</td>\n",
              "      <td>29.0</td>\n",
              "      <td>Good</td>\n",
              "      <td>Good</td>\n",
              "      <td>0</td>\n",
              "      <td>55000.0</td>\n",
              "      <td>7.0</td>\n",
              "      <td>NaN</td>\n",
              "    </tr>\n",
              "  </tbody>\n",
              "</table>\n",
              "</div>\n",
              "    <div class=\"colab-df-buttons\">\n",
              "\n",
              "  <div class=\"colab-df-container\">\n",
              "    <button class=\"colab-df-convert\" onclick=\"convertToInteractive('df-546404f2-fedd-45b8-9ae5-1a3311273672')\"\n",
              "            title=\"Convert this dataframe to an interactive table.\"\n",
              "            style=\"display:none;\">\n",
              "\n",
              "  <svg xmlns=\"http://www.w3.org/2000/svg\" height=\"24px\" viewBox=\"0 -960 960 960\">\n",
              "    <path d=\"M120-120v-720h720v720H120Zm60-500h600v-160H180v160Zm220 220h160v-160H400v160Zm0 220h160v-160H400v160ZM180-400h160v-160H180v160Zm440 0h160v-160H620v160ZM180-180h160v-160H180v160Zm440 0h160v-160H620v160Z\"/>\n",
              "  </svg>\n",
              "    </button>\n",
              "\n",
              "  <style>\n",
              "    .colab-df-container {\n",
              "      display:flex;\n",
              "      gap: 12px;\n",
              "    }\n",
              "\n",
              "    .colab-df-convert {\n",
              "      background-color: #E8F0FE;\n",
              "      border: none;\n",
              "      border-radius: 50%;\n",
              "      cursor: pointer;\n",
              "      display: none;\n",
              "      fill: #1967D2;\n",
              "      height: 32px;\n",
              "      padding: 0 0 0 0;\n",
              "      width: 32px;\n",
              "    }\n",
              "\n",
              "    .colab-df-convert:hover {\n",
              "      background-color: #E2EBFA;\n",
              "      box-shadow: 0px 1px 2px rgba(60, 64, 67, 0.3), 0px 1px 3px 1px rgba(60, 64, 67, 0.15);\n",
              "      fill: #174EA6;\n",
              "    }\n",
              "\n",
              "    .colab-df-buttons div {\n",
              "      margin-bottom: 4px;\n",
              "    }\n",
              "\n",
              "    [theme=dark] .colab-df-convert {\n",
              "      background-color: #3B4455;\n",
              "      fill: #D2E3FC;\n",
              "    }\n",
              "\n",
              "    [theme=dark] .colab-df-convert:hover {\n",
              "      background-color: #434B5C;\n",
              "      box-shadow: 0px 1px 3px 1px rgba(0, 0, 0, 0.15);\n",
              "      filter: drop-shadow(0px 1px 2px rgba(0, 0, 0, 0.3));\n",
              "      fill: #FFFFFF;\n",
              "    }\n",
              "  </style>\n",
              "\n",
              "    <script>\n",
              "      const buttonEl =\n",
              "        document.querySelector('#df-546404f2-fedd-45b8-9ae5-1a3311273672 button.colab-df-convert');\n",
              "      buttonEl.style.display =\n",
              "        google.colab.kernel.accessAllowed ? 'block' : 'none';\n",
              "\n",
              "      async function convertToInteractive(key) {\n",
              "        const element = document.querySelector('#df-546404f2-fedd-45b8-9ae5-1a3311273672');\n",
              "        const dataTable =\n",
              "          await google.colab.kernel.invokeFunction('convertToInteractive',\n",
              "                                                    [key], {});\n",
              "        if (!dataTable) return;\n",
              "\n",
              "        const docLinkHtml = 'Like what you see? Visit the ' +\n",
              "          '<a target=\"_blank\" href=https://colab.research.google.com/notebooks/data_table.ipynb>data table notebook</a>'\n",
              "          + ' to learn more about interactive tables.';\n",
              "        element.innerHTML = '';\n",
              "        dataTable['output_type'] = 'display_data';\n",
              "        await google.colab.output.renderOutput(dataTable, element);\n",
              "        const docLink = document.createElement('div');\n",
              "        docLink.innerHTML = docLinkHtml;\n",
              "        element.appendChild(docLink);\n",
              "      }\n",
              "    </script>\n",
              "  </div>\n",
              "\n",
              "\n",
              "<div id=\"df-66f33dfa-6c31-4a20-b911-07d7b05e60ec\">\n",
              "  <button class=\"colab-df-quickchart\" onclick=\"quickchart('df-66f33dfa-6c31-4a20-b911-07d7b05e60ec')\"\n",
              "            title=\"Suggest charts\"\n",
              "            style=\"display:none;\">\n",
              "\n",
              "<svg xmlns=\"http://www.w3.org/2000/svg\" height=\"24px\"viewBox=\"0 0 24 24\"\n",
              "     width=\"24px\">\n",
              "    <g>\n",
              "        <path d=\"M19 3H5c-1.1 0-2 .9-2 2v14c0 1.1.9 2 2 2h14c1.1 0 2-.9 2-2V5c0-1.1-.9-2-2-2zM9 17H7v-7h2v7zm4 0h-2V7h2v10zm4 0h-2v-4h2v4z\"/>\n",
              "    </g>\n",
              "</svg>\n",
              "  </button>\n",
              "\n",
              "<style>\n",
              "  .colab-df-quickchart {\n",
              "      --bg-color: #E8F0FE;\n",
              "      --fill-color: #1967D2;\n",
              "      --hover-bg-color: #E2EBFA;\n",
              "      --hover-fill-color: #174EA6;\n",
              "      --disabled-fill-color: #AAA;\n",
              "      --disabled-bg-color: #DDD;\n",
              "  }\n",
              "\n",
              "  [theme=dark] .colab-df-quickchart {\n",
              "      --bg-color: #3B4455;\n",
              "      --fill-color: #D2E3FC;\n",
              "      --hover-bg-color: #434B5C;\n",
              "      --hover-fill-color: #FFFFFF;\n",
              "      --disabled-bg-color: #3B4455;\n",
              "      --disabled-fill-color: #666;\n",
              "  }\n",
              "\n",
              "  .colab-df-quickchart {\n",
              "    background-color: var(--bg-color);\n",
              "    border: none;\n",
              "    border-radius: 50%;\n",
              "    cursor: pointer;\n",
              "    display: none;\n",
              "    fill: var(--fill-color);\n",
              "    height: 32px;\n",
              "    padding: 0;\n",
              "    width: 32px;\n",
              "  }\n",
              "\n",
              "  .colab-df-quickchart:hover {\n",
              "    background-color: var(--hover-bg-color);\n",
              "    box-shadow: 0 1px 2px rgba(60, 64, 67, 0.3), 0 1px 3px 1px rgba(60, 64, 67, 0.15);\n",
              "    fill: var(--button-hover-fill-color);\n",
              "  }\n",
              "\n",
              "  .colab-df-quickchart-complete:disabled,\n",
              "  .colab-df-quickchart-complete:disabled:hover {\n",
              "    background-color: var(--disabled-bg-color);\n",
              "    fill: var(--disabled-fill-color);\n",
              "    box-shadow: none;\n",
              "  }\n",
              "\n",
              "  .colab-df-spinner {\n",
              "    border: 2px solid var(--fill-color);\n",
              "    border-color: transparent;\n",
              "    border-bottom-color: var(--fill-color);\n",
              "    animation:\n",
              "      spin 1s steps(1) infinite;\n",
              "  }\n",
              "\n",
              "  @keyframes spin {\n",
              "    0% {\n",
              "      border-color: transparent;\n",
              "      border-bottom-color: var(--fill-color);\n",
              "      border-left-color: var(--fill-color);\n",
              "    }\n",
              "    20% {\n",
              "      border-color: transparent;\n",
              "      border-left-color: var(--fill-color);\n",
              "      border-top-color: var(--fill-color);\n",
              "    }\n",
              "    30% {\n",
              "      border-color: transparent;\n",
              "      border-left-color: var(--fill-color);\n",
              "      border-top-color: var(--fill-color);\n",
              "      border-right-color: var(--fill-color);\n",
              "    }\n",
              "    40% {\n",
              "      border-color: transparent;\n",
              "      border-right-color: var(--fill-color);\n",
              "      border-top-color: var(--fill-color);\n",
              "    }\n",
              "    60% {\n",
              "      border-color: transparent;\n",
              "      border-right-color: var(--fill-color);\n",
              "    }\n",
              "    80% {\n",
              "      border-color: transparent;\n",
              "      border-right-color: var(--fill-color);\n",
              "      border-bottom-color: var(--fill-color);\n",
              "    }\n",
              "    90% {\n",
              "      border-color: transparent;\n",
              "      border-bottom-color: var(--fill-color);\n",
              "    }\n",
              "  }\n",
              "</style>\n",
              "\n",
              "  <script>\n",
              "    async function quickchart(key) {\n",
              "      const quickchartButtonEl =\n",
              "        document.querySelector('#' + key + ' button');\n",
              "      quickchartButtonEl.disabled = true;  // To prevent multiple clicks.\n",
              "      quickchartButtonEl.classList.add('colab-df-spinner');\n",
              "      try {\n",
              "        const charts = await google.colab.kernel.invokeFunction(\n",
              "            'suggestCharts', [key], {});\n",
              "      } catch (error) {\n",
              "        console.error('Error during call to suggestCharts:', error);\n",
              "      }\n",
              "      quickchartButtonEl.classList.remove('colab-df-spinner');\n",
              "      quickchartButtonEl.classList.add('colab-df-quickchart-complete');\n",
              "    }\n",
              "    (() => {\n",
              "      let quickchartButtonEl =\n",
              "        document.querySelector('#df-66f33dfa-6c31-4a20-b911-07d7b05e60ec button');\n",
              "      quickchartButtonEl.style.display =\n",
              "        google.colab.kernel.accessAllowed ? 'block' : 'none';\n",
              "    })();\n",
              "  </script>\n",
              "</div>\n",
              "\n",
              "    </div>\n",
              "  </div>\n"
            ],
            "application/vnd.google.colaboratory.intrinsic+json": {
              "type": "dataframe",
              "variable_name": "selected_data",
              "summary": "{\n  \"name\": \"selected_data\",\n  \"rows\": 2608,\n  \"fields\": [\n    {\n      \"column\": \"Occupation\",\n      \"properties\": {\n        \"dtype\": \"category\",\n        \"num_unique_values\": 10,\n        \"samples\": [\n          \"Student\",\n          \"Retired\",\n          \"Manager, executive, or official\"\n        ],\n        \"semantic_type\": \"\",\n        \"description\": \"\"\n      }\n    },\n    {\n      \"column\": \"Support\",\n      \"properties\": {\n        \"dtype\": \"number\",\n        \"std\": 1,\n        \"min\": 0,\n        \"max\": 9,\n        \"num_unique_values\": 10,\n        \"samples\": [\n          8,\n          3,\n          6\n        ],\n        \"semantic_type\": \"\",\n        \"description\": \"\"\n      }\n    },\n    {\n      \"column\": \"Age\",\n      \"properties\": {\n        \"dtype\": \"number\",\n        \"std\": 17.10844653825239,\n        \"min\": 18.0,\n        \"max\": 98.0,\n        \"num_unique_values\": 73,\n        \"samples\": [\n          34.0,\n          53.0,\n          36.0\n        ],\n        \"semantic_type\": \"\",\n        \"description\": \"\"\n      }\n    },\n    {\n      \"column\": \"Present Health\",\n      \"properties\": {\n        \"dtype\": \"category\",\n        \"num_unique_values\": 5,\n        \"samples\": [\n          \"Good\",\n          \"Poor\",\n          \"Excellent\"\n        ],\n        \"semantic_type\": \"\",\n        \"description\": \"\"\n      }\n    },\n    {\n      \"column\": \"Present Mental Health\",\n      \"properties\": {\n        \"dtype\": \"category\",\n        \"num_unique_values\": 5,\n        \"samples\": [\n          \"Very Good\",\n          \"Poor\",\n          \"Excellent\"\n        ],\n        \"semantic_type\": \"\",\n        \"description\": \"\"\n      }\n    },\n    {\n      \"column\": \"Social Networks\",\n      \"properties\": {\n        \"dtype\": \"number\",\n        \"std\": 0,\n        \"min\": 0,\n        \"max\": 1,\n        \"num_unique_values\": 2,\n        \"samples\": [\n          1,\n          0\n        ],\n        \"semantic_type\": \"\",\n        \"description\": \"\"\n      }\n    },\n    {\n      \"column\": \"Income\",\n      \"properties\": {\n        \"dtype\": \"number\",\n        \"std\": 24859.262908205175,\n        \"min\": 5000.0,\n        \"max\": 75000.0,\n        \"num_unique_values\": 8,\n        \"samples\": [\n          35000.0,\n          25000.0\n        ],\n        \"semantic_type\": \"\",\n        \"description\": \"\"\n      }\n    },\n    {\n      \"column\": \"Duration of Residency\",\n      \"properties\": {\n        \"dtype\": \"number\",\n        \"std\": 12.742666892996544,\n        \"min\": 0.25,\n        \"max\": 78.0,\n        \"num_unique_values\": 65,\n        \"samples\": [\n          65.0,\n          67.0\n        ],\n        \"semantic_type\": \"\",\n        \"description\": \"\"\n      }\n    },\n    {\n      \"column\": \"Quality of Life\",\n      \"properties\": {\n        \"dtype\": \"number\",\n        \"std\": 1.6348091634198931,\n        \"min\": 0.0,\n        \"max\": 10.0,\n        \"num_unique_values\": 11,\n        \"samples\": [\n          7.0,\n          8.0\n        ],\n        \"semantic_type\": \"\",\n        \"description\": \"\"\n      }\n    }\n  ]\n}"
            }
          },
          "metadata": {},
          "execution_count": 117
        }
      ],
      "source": [
        "# Select at least 8 predictor variables to predict 'Quality of Life'\n",
        "predictor_variables = [\n",
        "    'Occupation',          # Occupation as a predictor\n",
        "    'Support',             # Support as a predictor\n",
        "    'Age',                 # Age (demographics)\n",
        "    'Present Health',       # Health status (health)\n",
        "    'Present Mental Health',       # Mental health (health)\n",
        "    'Social Networks',# Social connectedness (belonging)\n",
        "    'Income',              # Income (demographics)\n",
        "    'Duration of Residency'  # Duration of Residency (demographics)\n",
        "]\n",
        "\n",
        "# Create a new DataFrame with the selected predictor variables and the target variable 'Quality of Life'\n",
        "selected_data = aaqol_data[predictor_variables + ['Quality of Life']]\n",
        "\n",
        "# Display the first few rows of the selected data\n",
        "selected_data.head()\n"
      ]
    },
    {
      "cell_type": "markdown",
      "id": "7106c78b",
      "metadata": {
        "id": "7106c78b"
      },
      "source": [
        "*Check* for missing values for the new data frame. Either drop them or fill in with values."
      ]
    },
    {
      "cell_type": "code",
      "execution_count": null,
      "id": "fea964c7",
      "metadata": {
        "id": "fea964c7",
        "colab": {
          "base_uri": "https://localhost:8080/",
          "height": 1000
        },
        "outputId": "e16684bd-1e63-4fe7-f8e1-c63895de4de2"
      },
      "outputs": [
        {
          "output_type": "stream",
          "name": "stdout",
          "text": [
            "Occupation                0\n",
            "Support                   0\n",
            "Age                       0\n",
            "Present Health            0\n",
            "Present Mental Health     0\n",
            "Social Networks           0\n",
            "Income                    0\n",
            "Duration of Residency     0\n",
            "Quality of Life          44\n",
            "dtype: int64\n"
          ]
        },
        {
          "output_type": "stream",
          "name": "stderr",
          "text": [
            "<ipython-input-118-c81467ea58d9>:5: FutureWarning: A value is trying to be set on a copy of a DataFrame or Series through chained assignment using an inplace method.\n",
            "The behavior will change in pandas 3.0. This inplace method will never work because the intermediate object on which we are setting values always behaves as a copy.\n",
            "\n",
            "For example, when doing 'df[col].method(value, inplace=True)', try using 'df.method({col: value}, inplace=True)' or df[col] = df[col].method(value) instead, to perform the operation inplace on the original object.\n",
            "\n",
            "\n",
            "  selected_data[column].fillna(mode_value, inplace=True)\n",
            "<ipython-input-118-c81467ea58d9>:5: SettingWithCopyWarning: \n",
            "A value is trying to be set on a copy of a slice from a DataFrame\n",
            "\n",
            "See the caveats in the documentation: https://pandas.pydata.org/pandas-docs/stable/user_guide/indexing.html#returning-a-view-versus-a-copy\n",
            "  selected_data[column].fillna(mode_value, inplace=True)\n",
            "<ipython-input-118-c81467ea58d9>:5: FutureWarning: A value is trying to be set on a copy of a DataFrame or Series through chained assignment using an inplace method.\n",
            "The behavior will change in pandas 3.0. This inplace method will never work because the intermediate object on which we are setting values always behaves as a copy.\n",
            "\n",
            "For example, when doing 'df[col].method(value, inplace=True)', try using 'df.method({col: value}, inplace=True)' or df[col] = df[col].method(value) instead, to perform the operation inplace on the original object.\n",
            "\n",
            "\n",
            "  selected_data[column].fillna(mode_value, inplace=True)\n",
            "<ipython-input-118-c81467ea58d9>:5: SettingWithCopyWarning: \n",
            "A value is trying to be set on a copy of a slice from a DataFrame\n",
            "\n",
            "See the caveats in the documentation: https://pandas.pydata.org/pandas-docs/stable/user_guide/indexing.html#returning-a-view-versus-a-copy\n",
            "  selected_data[column].fillna(mode_value, inplace=True)\n",
            "<ipython-input-118-c81467ea58d9>:11: FutureWarning: A value is trying to be set on a copy of a DataFrame or Series through chained assignment using an inplace method.\n",
            "The behavior will change in pandas 3.0. This inplace method will never work because the intermediate object on which we are setting values always behaves as a copy.\n",
            "\n",
            "For example, when doing 'df[col].method(value, inplace=True)', try using 'df.method({col: value}, inplace=True)' or df[col] = df[col].method(value) instead, to perform the operation inplace on the original object.\n",
            "\n",
            "\n",
            "  selected_data[column].fillna(median_value, inplace=True)\n",
            "<ipython-input-118-c81467ea58d9>:11: SettingWithCopyWarning: \n",
            "A value is trying to be set on a copy of a slice from a DataFrame\n",
            "\n",
            "See the caveats in the documentation: https://pandas.pydata.org/pandas-docs/stable/user_guide/indexing.html#returning-a-view-versus-a-copy\n",
            "  selected_data[column].fillna(median_value, inplace=True)\n"
          ]
        },
        {
          "output_type": "execute_result",
          "data": {
            "text/plain": [
              "Occupation               0\n",
              "Support                  0\n",
              "Age                      0\n",
              "Present Health           0\n",
              "Present Mental Health    0\n",
              "Social Networks          0\n",
              "Income                   0\n",
              "Duration of Residency    0\n",
              "Quality of Life          0\n",
              "dtype: int64"
            ],
            "text/html": [
              "<div>\n",
              "<style scoped>\n",
              "    .dataframe tbody tr th:only-of-type {\n",
              "        vertical-align: middle;\n",
              "    }\n",
              "\n",
              "    .dataframe tbody tr th {\n",
              "        vertical-align: top;\n",
              "    }\n",
              "\n",
              "    .dataframe thead th {\n",
              "        text-align: right;\n",
              "    }\n",
              "</style>\n",
              "<table border=\"1\" class=\"dataframe\">\n",
              "  <thead>\n",
              "    <tr style=\"text-align: right;\">\n",
              "      <th></th>\n",
              "      <th>0</th>\n",
              "    </tr>\n",
              "  </thead>\n",
              "  <tbody>\n",
              "    <tr>\n",
              "      <th>Occupation</th>\n",
              "      <td>0</td>\n",
              "    </tr>\n",
              "    <tr>\n",
              "      <th>Support</th>\n",
              "      <td>0</td>\n",
              "    </tr>\n",
              "    <tr>\n",
              "      <th>Age</th>\n",
              "      <td>0</td>\n",
              "    </tr>\n",
              "    <tr>\n",
              "      <th>Present Health</th>\n",
              "      <td>0</td>\n",
              "    </tr>\n",
              "    <tr>\n",
              "      <th>Present Mental Health</th>\n",
              "      <td>0</td>\n",
              "    </tr>\n",
              "    <tr>\n",
              "      <th>Social Networks</th>\n",
              "      <td>0</td>\n",
              "    </tr>\n",
              "    <tr>\n",
              "      <th>Income</th>\n",
              "      <td>0</td>\n",
              "    </tr>\n",
              "    <tr>\n",
              "      <th>Duration of Residency</th>\n",
              "      <td>0</td>\n",
              "    </tr>\n",
              "    <tr>\n",
              "      <th>Quality of Life</th>\n",
              "      <td>0</td>\n",
              "    </tr>\n",
              "  </tbody>\n",
              "</table>\n",
              "</div><br><label><b>dtype:</b> int64</label>"
            ]
          },
          "metadata": {},
          "execution_count": 118
        }
      ],
      "source": [
        "# Fill missing values in categorical columns with the mode\n",
        "categorical_columns = ['Occupation', 'Present Health', 'Present Mental Health', 'Social Networks']\n",
        "for column in categorical_columns:\n",
        "    mode_value = selected_data[column].mode()[0]\n",
        "    selected_data[column].fillna(mode_value, inplace=True)\n",
        "\n",
        "# Fill missing values in numerical columns with the median\n",
        "numerical_columns = ['Age', 'Income', 'Duration of Residency']\n",
        "for column in numerical_columns:\n",
        "    median_value = selected_data[column].median()\n",
        "    selected_data[column].fillna(median_value, inplace=True)\n",
        "\n",
        "# Check again for missing values\n",
        "missing_values_after_fill = selected_data.isnull().sum()\n",
        "\n",
        "# Display the result after filling\n",
        "print(missing_values_after_fill)\n",
        "# Drop rows where 'Quality of Life' is missing\n",
        "selected_data_cleaned = selected_data.dropna(subset=['Quality of Life'])\n",
        "\n",
        "# Check again for missing values\n",
        "missing_values_after_drop = selected_data_cleaned.isnull().sum()\n",
        "\n",
        "# Display the result after dropping rows\n",
        "missing_values_after_drop\n",
        "\n"
      ]
    },
    {
      "cell_type": "markdown",
      "id": "b20c6334",
      "metadata": {
        "id": "b20c6334"
      },
      "source": [
        "Now we are ready to analyze."
      ]
    },
    {
      "cell_type": "code",
      "execution_count": null,
      "id": "ff3e19bf",
      "metadata": {
        "id": "ff3e19bf"
      },
      "outputs": [],
      "source": [
        "import pandas as pd\n",
        "from sklearn.model_selection import train_test_split\n",
        "from sklearn.linear_model import LinearRegression\n",
        "import statsmodels.api as sm\n",
        "from statsmodels.miscmodels.ordinal_model import OrderedModel\n",
        "from sklearn.metrics import mean_squared_error, r2_score"
      ]
    },
    {
      "cell_type": "markdown",
      "id": "660b67f5",
      "metadata": {
        "id": "660b67f5"
      },
      "source": [
        "Prepare X and y. Make sure your 'Quality of Life' is numeric."
      ]
    },
    {
      "cell_type": "code",
      "execution_count": null,
      "id": "06ed33b3",
      "metadata": {
        "id": "06ed33b3",
        "colab": {
          "base_uri": "https://localhost:8080/"
        },
        "outputId": "1dce8a13-f0e5-4080-d299-655b0d47ad16"
      },
      "outputs": [
        {
          "output_type": "stream",
          "name": "stdout",
          "text": [
            "44\n",
            "   Support   Age  Social Networks   Income  Duration of Residency  \\\n",
            "0        0  40.0                0  55000.0                   13.0   \n",
            "1        0  60.0                0  35000.0                    0.5   \n",
            "2        3  23.0                0   5000.0                   11.0   \n",
            "3        2  73.0                0  55000.0                   50.0   \n",
            "4        0  29.0                0  55000.0                    7.0   \n",
            "\n",
            "   Occupation_Clerical, office, sales  \\\n",
            "0                               False   \n",
            "1                                True   \n",
            "2                               False   \n",
            "3                               False   \n",
            "4                               False   \n",
            "\n",
            "   Occupation_Manager, executive, or official  Occupation_Other  \\\n",
            "0                                       False             False   \n",
            "1                                       False             False   \n",
            "2                                       False             False   \n",
            "3                                       False             False   \n",
            "4                                       False              True   \n",
            "\n",
            "   Occupation_Professional  Occupation_Retired  ...  \\\n",
            "0                     True               False  ...   \n",
            "1                    False               False  ...   \n",
            "2                     True               False  ...   \n",
            "3                    False                True  ...   \n",
            "4                    False               False  ...   \n",
            "\n",
            "   Occupation_Skilled trades  Occupation_Student  Present Health_Fair  \\\n",
            "0                      False               False                False   \n",
            "1                      False               False                False   \n",
            "2                      False               False                False   \n",
            "3                      False               False                False   \n",
            "4                      False               False                False   \n",
            "\n",
            "   Present Health_Good  Present Health_Poor  Present Health_Very Good  \\\n",
            "0                False                False                      True   \n",
            "1                False                False                      True   \n",
            "2                False                False                      True   \n",
            "3                 True                False                     False   \n",
            "4                 True                False                     False   \n",
            "\n",
            "   Present Mental Health_Fair  Present Mental Health_Good  \\\n",
            "0                       False                       False   \n",
            "1                       False                       False   \n",
            "2                       False                        True   \n",
            "3                       False                       False   \n",
            "4                       False                        True   \n",
            "\n",
            "   Present Mental Health_Poor  Present Mental Health_Very Good  \n",
            "0                       False                             True  \n",
            "1                       False                             True  \n",
            "2                       False                            False  \n",
            "3                       False                             True  \n",
            "4                       False                            False  \n",
            "\n",
            "[5 rows x 22 columns]\n",
            "0    NaN\n",
            "1    NaN\n",
            "2    8.0\n",
            "3    NaN\n",
            "4    NaN\n",
            "Name: Quality of Life, dtype: float64\n"
          ]
        },
        {
          "output_type": "stream",
          "name": "stderr",
          "text": [
            "<ipython-input-124-2a4241082b6b>:2: SettingWithCopyWarning: \n",
            "A value is trying to be set on a copy of a slice from a DataFrame.\n",
            "Try using .loc[row_indexer,col_indexer] = value instead\n",
            "\n",
            "See the caveats in the documentation: https://pandas.pydata.org/pandas-docs/stable/user_guide/indexing.html#returning-a-view-versus-a-copy\n",
            "  selected_data['Quality of Life'] = pd.to_numeric(selected_data['Quality of Life'], errors='coerce')\n"
          ]
        }
      ],
      "source": [
        "# Ensure 'Quality of Life' is numeric (if it's categorical or has non-numeric values)\n",
        "selected_data['Quality of Life'] = pd.to_numeric(selected_data['Quality of Life'], errors='coerce')\n",
        "\n",
        "# Check if there are any remaining missing values in 'Quality of Life'\n",
        "print(selected_data['Quality of Life'].isnull().sum())\n",
        "\n",
        "# Define X (predictor variables) and y (target variable)\n",
        "X = selected_data.drop('Quality of Life', axis=1)  # Drop 'Quality of Life' from predictors\n",
        "y = selected_data['Quality of Life']  # 'Quality of Life' is the target\n",
        "\n",
        "# Handle categorical variables (e.g., 'Occupation') using One-Hot Encoding\n",
        "X_encoded = pd.get_dummies(X, drop_first=True)\n",
        "\n",
        "# Display the first few rows of X and y\n",
        "print(X_encoded.head())\n",
        "print(y.head())\n"
      ]
    },
    {
      "cell_type": "markdown",
      "id": "631dfd81",
      "metadata": {
        "id": "631dfd81"
      },
      "source": [
        "Code the categorical variables in X into dummy variables."
      ]
    },
    {
      "cell_type": "code",
      "execution_count": null,
      "id": "3c21c106",
      "metadata": {
        "id": "3c21c106",
        "colab": {
          "base_uri": "https://localhost:8080/"
        },
        "outputId": "347d1e39-0299-42d4-c7a2-0d93105a8ca4"
      },
      "outputs": [
        {
          "output_type": "stream",
          "name": "stdout",
          "text": [
            "   Support   Age  Social Networks   Income  Duration of Residency  \\\n",
            "0        0  40.0                0  55000.0                   13.0   \n",
            "1        0  60.0                0  35000.0                    0.5   \n",
            "2        3  23.0                0   5000.0                   11.0   \n",
            "3        2  73.0                0  55000.0                   50.0   \n",
            "4        0  29.0                0  55000.0                    7.0   \n",
            "\n",
            "   Occupation_Clerical, office, sales  \\\n",
            "0                               False   \n",
            "1                                True   \n",
            "2                               False   \n",
            "3                               False   \n",
            "4                               False   \n",
            "\n",
            "   Occupation_Manager, executive, or official  Occupation_Other  \\\n",
            "0                                       False             False   \n",
            "1                                       False             False   \n",
            "2                                       False             False   \n",
            "3                                       False             False   \n",
            "4                                       False              True   \n",
            "\n",
            "   Occupation_Professional  Occupation_Retired  ...  \\\n",
            "0                     True               False  ...   \n",
            "1                    False               False  ...   \n",
            "2                     True               False  ...   \n",
            "3                    False                True  ...   \n",
            "4                    False               False  ...   \n",
            "\n",
            "   Occupation_Skilled trades  Occupation_Student  Present Health_Fair  \\\n",
            "0                      False               False                False   \n",
            "1                      False               False                False   \n",
            "2                      False               False                False   \n",
            "3                      False               False                False   \n",
            "4                      False               False                False   \n",
            "\n",
            "   Present Health_Good  Present Health_Poor  Present Health_Very Good  \\\n",
            "0                False                False                      True   \n",
            "1                False                False                      True   \n",
            "2                False                False                      True   \n",
            "3                 True                False                     False   \n",
            "4                 True                False                     False   \n",
            "\n",
            "   Present Mental Health_Fair  Present Mental Health_Good  \\\n",
            "0                       False                       False   \n",
            "1                       False                       False   \n",
            "2                       False                        True   \n",
            "3                       False                       False   \n",
            "4                       False                        True   \n",
            "\n",
            "   Present Mental Health_Poor  Present Mental Health_Very Good  \n",
            "0                       False                             True  \n",
            "1                       False                             True  \n",
            "2                       False                            False  \n",
            "3                       False                             True  \n",
            "4                       False                            False  \n",
            "\n",
            "[5 rows x 22 columns]\n"
          ]
        }
      ],
      "source": [
        "import pandas as pd\n",
        "\n",
        "# Assuming 'X' is the data frame containing your predictor variables\n",
        "# Use pd.get_dummies to convert categorical variables to dummy variables\n",
        "X_dummies = pd.get_dummies(X, drop_first=True)\n",
        "\n",
        "# Display the first few rows of the transformed data to verify\n",
        "print(X_dummies.head())\n"
      ]
    },
    {
      "cell_type": "markdown",
      "id": "1149918f",
      "metadata": {
        "id": "1149918f"
      },
      "source": [
        "Split training and testing datasets."
      ]
    },
    {
      "cell_type": "code",
      "execution_count": null,
      "id": "1ca50f99",
      "metadata": {
        "id": "1ca50f99"
      },
      "outputs": [],
      "source": [
        "from sklearn.model_selection import train_test_split\n",
        "\n",
        "# Split the data into predictors (X) and target variable (y)\n",
        "X = selected_data.drop(columns='Quality of Life')\n",
        "y = selected_data['Quality of Life']\n",
        "\n",
        "# Split the data into training (80%) and testing (20%) datasets\n",
        "X_train, X_test, y_train, y_test = train_test_split(X, y, test_size=0.2, random_state=42)\n"
      ]
    }
  ],
  "metadata": {
    "kernelspec": {
      "display_name": "Python 3",
      "language": "python",
      "name": "python3"
    },
    "language_info": {
      "codemirror_mode": {
        "name": "ipython",
        "version": 3
      },
      "file_extension": ".py",
      "mimetype": "text/x-python",
      "name": "python",
      "nbconvert_exporter": "python",
      "pygments_lexer": "ipython3",
      "version": "3.8.8"
    },
    "colab": {
      "provenance": []
    }
  },
  "nbformat": 4,
  "nbformat_minor": 5
}